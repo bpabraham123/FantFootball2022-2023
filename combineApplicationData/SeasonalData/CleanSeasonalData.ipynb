{
 "cells": [
  {
   "cell_type": "code",
   "execution_count": 6,
   "metadata": {},
   "outputs": [],
   "source": [
    "import pandas as pd\n",
    "import nfl_data_py as nfl"
   ]
  },
  {
   "cell_type": "code",
   "execution_count": 7,
   "metadata": {},
   "outputs": [],
   "source": [
    "ids = nfl.import_ids()\n",
    "data = nfl.import_seasonal_data(range(2006, 2022))"
   ]
  },
  {
   "cell_type": "code",
   "execution_count": 8,
   "metadata": {},
   "outputs": [],
   "source": [
    "dataMerged = data.merge(ids[['gsis_id', 'name']], left_on=\"player_id\", right_on=\"gsis_id\").drop(labels='gsis_id', axis=1)"
   ]
  },
  {
   "cell_type": "code",
   "execution_count": 9,
   "metadata": {},
   "outputs": [],
   "source": [
    "dataIndexed = dataMerged.set_index('player_id')\n",
    "dataIndexed.to_parquet(\"prodSeasonalData.parquet\")"
   ]
  },
  {
   "cell_type": "code",
   "execution_count": null,
   "metadata": {},
   "outputs": [],
   "source": []
  }
 ],
 "metadata": {
  "kernelspec": {
   "display_name": "Python 3.9.12 ('FantFootballV2')",
   "language": "python",
   "name": "python3"
  },
  "language_info": {
   "codemirror_mode": {
    "name": "ipython",
    "version": 3
   },
   "file_extension": ".py",
   "mimetype": "text/x-python",
   "name": "python",
   "nbconvert_exporter": "python",
   "pygments_lexer": "ipython3",
   "version": "3.9.12"
  },
  "orig_nbformat": 4,
  "vscode": {
   "interpreter": {
    "hash": "5fd2b6fb039f954710ccc43b58fd3e1f95c473cd6a07930eaf4635305e8115e1"
   }
  }
 },
 "nbformat": 4,
 "nbformat_minor": 2
}
