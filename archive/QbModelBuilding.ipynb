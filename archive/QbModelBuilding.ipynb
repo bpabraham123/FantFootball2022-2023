{
 "cells": [
  {
   "cell_type": "code",
   "execution_count": 4,
   "outputs": [],
   "source": [
    "import xgboost as xgb\n",
    "import pandas as pd\n",
    "import numpy as np"
   ],
   "metadata": {
    "collapsed": false,
    "pycharm": {
     "name": "#%%\n"
    }
   }
  },
  {
   "cell_type": "code",
   "execution_count": 5,
   "outputs": [
    {
     "data": {
      "text/plain": "                name position  age  season  games      team  rank  \\\n0      Charlie Batch       QB   32    2006      7  Steelers   NaN   \n1    Matt Hasselbeck       QB   31    2006     12  Seahawks  14.0   \n2     Peyton Manning       QB   30    2006     16     Colts   1.0   \n3          Tom Brady       QB   29    2006     16  Patriots   2.0   \n4       Michael Vick       QB   26    2006     16   Falcons  12.5   \n..               ...      ...  ...     ...    ...       ...   ...   \n611      Davis Mills       QB   23    2021     13    Texans  29.0   \n612    Justin Fields       QB   22    2021     12     Bears  31.0   \n613  Trevor Lawrence       QB   22    2021     17   Jaguars  28.0   \n614        Mac Jones       QB   23    2021     17  Patriots  14.0   \n615      Zach Wilson       QB   22    2021     13      Jets  30.0   \n\n     completions  attempts  passing_yards  ...  rushing_epa_n-2  \\\n0             30        52          477.0  ...              NaN   \n1            210       371         2442.0  ...              NaN   \n2            362       557         4397.0  ...              NaN   \n3            320       517         3533.0  ...              NaN   \n4            205       389         2474.0  ...              NaN   \n..           ...       ...            ...  ...              ...   \n611          263       394         2664.0  ...              NaN   \n612          159       270         1870.0  ...              NaN   \n613          359       602         3641.0  ...              NaN   \n614          352       521         3801.0  ...              NaN   \n615          213       383         2334.0  ...              NaN   \n\n     fantasy_points_n-2  qbr_total_n-2  pts_added_n-2  qb_plays_n-2  \\\n0                   NaN            NaN            NaN           NaN   \n1                   NaN            NaN            NaN           NaN   \n2                   NaN            NaN            NaN           NaN   \n3                   NaN            NaN            NaN           NaN   \n4                   NaN            NaN            NaN           NaN   \n..                  ...            ...            ...           ...   \n611                 NaN            NaN            NaN           NaN   \n612                 NaN            NaN            NaN           NaN   \n613                 NaN            NaN            NaN           NaN   \n614                 NaN            NaN            NaN           NaN   \n615                 NaN            NaN            NaN           NaN   \n\n     epa_total_n-2  pass_n-2  run_n-2  qbr_raw_n-2  qualified_n-2  \n0              NaN       NaN      NaN          NaN            NaN  \n1              NaN       NaN      NaN          NaN            NaN  \n2              NaN       NaN      NaN          NaN            NaN  \n3              NaN       NaN      NaN          NaN            NaN  \n4              NaN       NaN      NaN          NaN            NaN  \n..             ...       ...      ...          ...            ...  \n611            NaN       NaN      NaN          NaN            NaN  \n612            NaN       NaN      NaN          NaN            NaN  \n613            NaN       NaN      NaN          NaN            NaN  \n614            NaN       NaN      NaN          NaN            NaN  \n615            NaN       NaN      NaN          NaN            NaN  \n\n[616 rows x 114 columns]",
      "text/html": "<div>\n<style scoped>\n    .dataframe tbody tr th:only-of-type {\n        vertical-align: middle;\n    }\n\n    .dataframe tbody tr th {\n        vertical-align: top;\n    }\n\n    .dataframe thead th {\n        text-align: right;\n    }\n</style>\n<table border=\"1\" class=\"dataframe\">\n  <thead>\n    <tr style=\"text-align: right;\">\n      <th></th>\n      <th>name</th>\n      <th>position</th>\n      <th>age</th>\n      <th>season</th>\n      <th>games</th>\n      <th>team</th>\n      <th>rank</th>\n      <th>completions</th>\n      <th>attempts</th>\n      <th>passing_yards</th>\n      <th>...</th>\n      <th>rushing_epa_n-2</th>\n      <th>fantasy_points_n-2</th>\n      <th>qbr_total_n-2</th>\n      <th>pts_added_n-2</th>\n      <th>qb_plays_n-2</th>\n      <th>epa_total_n-2</th>\n      <th>pass_n-2</th>\n      <th>run_n-2</th>\n      <th>qbr_raw_n-2</th>\n      <th>qualified_n-2</th>\n    </tr>\n  </thead>\n  <tbody>\n    <tr>\n      <th>0</th>\n      <td>Charlie Batch</td>\n      <td>QB</td>\n      <td>32</td>\n      <td>2006</td>\n      <td>7</td>\n      <td>Steelers</td>\n      <td>NaN</td>\n      <td>30</td>\n      <td>52</td>\n      <td>477.0</td>\n      <td>...</td>\n      <td>NaN</td>\n      <td>NaN</td>\n      <td>NaN</td>\n      <td>NaN</td>\n      <td>NaN</td>\n      <td>NaN</td>\n      <td>NaN</td>\n      <td>NaN</td>\n      <td>NaN</td>\n      <td>NaN</td>\n    </tr>\n    <tr>\n      <th>1</th>\n      <td>Matt Hasselbeck</td>\n      <td>QB</td>\n      <td>31</td>\n      <td>2006</td>\n      <td>12</td>\n      <td>Seahawks</td>\n      <td>14.0</td>\n      <td>210</td>\n      <td>371</td>\n      <td>2442.0</td>\n      <td>...</td>\n      <td>NaN</td>\n      <td>NaN</td>\n      <td>NaN</td>\n      <td>NaN</td>\n      <td>NaN</td>\n      <td>NaN</td>\n      <td>NaN</td>\n      <td>NaN</td>\n      <td>NaN</td>\n      <td>NaN</td>\n    </tr>\n    <tr>\n      <th>2</th>\n      <td>Peyton Manning</td>\n      <td>QB</td>\n      <td>30</td>\n      <td>2006</td>\n      <td>16</td>\n      <td>Colts</td>\n      <td>1.0</td>\n      <td>362</td>\n      <td>557</td>\n      <td>4397.0</td>\n      <td>...</td>\n      <td>NaN</td>\n      <td>NaN</td>\n      <td>NaN</td>\n      <td>NaN</td>\n      <td>NaN</td>\n      <td>NaN</td>\n      <td>NaN</td>\n      <td>NaN</td>\n      <td>NaN</td>\n      <td>NaN</td>\n    </tr>\n    <tr>\n      <th>3</th>\n      <td>Tom Brady</td>\n      <td>QB</td>\n      <td>29</td>\n      <td>2006</td>\n      <td>16</td>\n      <td>Patriots</td>\n      <td>2.0</td>\n      <td>320</td>\n      <td>517</td>\n      <td>3533.0</td>\n      <td>...</td>\n      <td>NaN</td>\n      <td>NaN</td>\n      <td>NaN</td>\n      <td>NaN</td>\n      <td>NaN</td>\n      <td>NaN</td>\n      <td>NaN</td>\n      <td>NaN</td>\n      <td>NaN</td>\n      <td>NaN</td>\n    </tr>\n    <tr>\n      <th>4</th>\n      <td>Michael Vick</td>\n      <td>QB</td>\n      <td>26</td>\n      <td>2006</td>\n      <td>16</td>\n      <td>Falcons</td>\n      <td>12.5</td>\n      <td>205</td>\n      <td>389</td>\n      <td>2474.0</td>\n      <td>...</td>\n      <td>NaN</td>\n      <td>NaN</td>\n      <td>NaN</td>\n      <td>NaN</td>\n      <td>NaN</td>\n      <td>NaN</td>\n      <td>NaN</td>\n      <td>NaN</td>\n      <td>NaN</td>\n      <td>NaN</td>\n    </tr>\n    <tr>\n      <th>...</th>\n      <td>...</td>\n      <td>...</td>\n      <td>...</td>\n      <td>...</td>\n      <td>...</td>\n      <td>...</td>\n      <td>...</td>\n      <td>...</td>\n      <td>...</td>\n      <td>...</td>\n      <td>...</td>\n      <td>...</td>\n      <td>...</td>\n      <td>...</td>\n      <td>...</td>\n      <td>...</td>\n      <td>...</td>\n      <td>...</td>\n      <td>...</td>\n      <td>...</td>\n      <td>...</td>\n    </tr>\n    <tr>\n      <th>611</th>\n      <td>Davis Mills</td>\n      <td>QB</td>\n      <td>23</td>\n      <td>2021</td>\n      <td>13</td>\n      <td>Texans</td>\n      <td>29.0</td>\n      <td>263</td>\n      <td>394</td>\n      <td>2664.0</td>\n      <td>...</td>\n      <td>NaN</td>\n      <td>NaN</td>\n      <td>NaN</td>\n      <td>NaN</td>\n      <td>NaN</td>\n      <td>NaN</td>\n      <td>NaN</td>\n      <td>NaN</td>\n      <td>NaN</td>\n      <td>NaN</td>\n    </tr>\n    <tr>\n      <th>612</th>\n      <td>Justin Fields</td>\n      <td>QB</td>\n      <td>22</td>\n      <td>2021</td>\n      <td>12</td>\n      <td>Bears</td>\n      <td>31.0</td>\n      <td>159</td>\n      <td>270</td>\n      <td>1870.0</td>\n      <td>...</td>\n      <td>NaN</td>\n      <td>NaN</td>\n      <td>NaN</td>\n      <td>NaN</td>\n      <td>NaN</td>\n      <td>NaN</td>\n      <td>NaN</td>\n      <td>NaN</td>\n      <td>NaN</td>\n      <td>NaN</td>\n    </tr>\n    <tr>\n      <th>613</th>\n      <td>Trevor Lawrence</td>\n      <td>QB</td>\n      <td>22</td>\n      <td>2021</td>\n      <td>17</td>\n      <td>Jaguars</td>\n      <td>28.0</td>\n      <td>359</td>\n      <td>602</td>\n      <td>3641.0</td>\n      <td>...</td>\n      <td>NaN</td>\n      <td>NaN</td>\n      <td>NaN</td>\n      <td>NaN</td>\n      <td>NaN</td>\n      <td>NaN</td>\n      <td>NaN</td>\n      <td>NaN</td>\n      <td>NaN</td>\n      <td>NaN</td>\n    </tr>\n    <tr>\n      <th>614</th>\n      <td>Mac Jones</td>\n      <td>QB</td>\n      <td>23</td>\n      <td>2021</td>\n      <td>17</td>\n      <td>Patriots</td>\n      <td>14.0</td>\n      <td>352</td>\n      <td>521</td>\n      <td>3801.0</td>\n      <td>...</td>\n      <td>NaN</td>\n      <td>NaN</td>\n      <td>NaN</td>\n      <td>NaN</td>\n      <td>NaN</td>\n      <td>NaN</td>\n      <td>NaN</td>\n      <td>NaN</td>\n      <td>NaN</td>\n      <td>NaN</td>\n    </tr>\n    <tr>\n      <th>615</th>\n      <td>Zach Wilson</td>\n      <td>QB</td>\n      <td>22</td>\n      <td>2021</td>\n      <td>13</td>\n      <td>Jets</td>\n      <td>30.0</td>\n      <td>213</td>\n      <td>383</td>\n      <td>2334.0</td>\n      <td>...</td>\n      <td>NaN</td>\n      <td>NaN</td>\n      <td>NaN</td>\n      <td>NaN</td>\n      <td>NaN</td>\n      <td>NaN</td>\n      <td>NaN</td>\n      <td>NaN</td>\n      <td>NaN</td>\n      <td>NaN</td>\n    </tr>\n  </tbody>\n</table>\n<p>616 rows × 114 columns</p>\n</div>"
     },
     "execution_count": 5,
     "metadata": {},
     "output_type": "execute_result"
    }
   ],
   "source": [
    "data = pd.read_parquet('qb_season_data.parquet')\n",
    "data"
   ],
   "metadata": {
    "collapsed": false,
    "pycharm": {
     "name": "#%%\n"
    }
   }
  },
  {
   "cell_type": "code",
   "execution_count": 7,
   "outputs": [],
   "source": [
    "label = data['fantasy_points']\n",
    "predictors = data[['age', 'games', 'rank', 'completions', 'attempts', 'passing_yards', 'passing_tds', 'interceptions', 'sacks', 'sack_yards', 'sack_fumbles', 'sack_fumbles_lost', 'passing_air_yards',\n",
    "                   'passing_yards_after_catch', 'passing_first_downs', 'passing_epa', 'passing_2pt_conversions', 'dakota', 'carries', 'rushing_yards', 'rushing_tds', 'rushing_fumbles', 'rushing_fumbles_lost',\n",
    "                   'rushing_first_downs', 'rushing_epa', 'qbr_total', 'pts_added','qb_plays', 'epa_total', 'pass', 'run', 'qbr_raw', 'qualified','games_n-1', 'rank_n-1', 'completions_n-1', 'attempts_n-1',\n",
    "                   'passing_yards_n-1', 'passing_tds_n-1', 'interceptions_n-1', 'sacks_n-1', 'sack_yards_n-1', 'sack_fumbles_n-1', 'sack_fumbles_lost_n-1', 'passing_air_yards_n-1', 'passing_yards_after_catch_n-1',\n",
    "                   'passing_first_downs_n-1', 'passing_epa_n-1', 'passing_2pt_conversions_n-1', 'dakota_n-1', 'carries_n-1', 'rushing_yards_n-1', 'rushing_tds_n-1', 'rushing_fumbles_n-1', 'rushing_fumbles_lost_n-1',\n",
    "                   'rushing_first_downs_n-1', 'rushing_epa_n-1', 'fantasy_points_n-1', 'qbr_total_n-1', 'pts_added_n-1', 'qb_plays_n-1', 'epa_total_n-1', 'pass_n-1', 'run_n-1', 'qbr_raw_n-1', 'qualified_n-1', 'games_n-2',\n",
    "                   'rank_n-2', 'completions_n-2', 'attempts_n-2', 'passing_yards_n-2', 'passing_tds_n-2', 'interceptions_n-2', 'sacks_n-2', 'sack_yards_n-2', 'sack_fumbles_n-2', 'sack_fumbles_lost_n-2', 'passing_air_yards_n-2',\n",
    "                   'passing_yards_after_catch_n-2', 'passing_first_downs_n-2', 'passing_epa_n-2', 'passing_2pt_conversions_n-2', 'dakota_n-2', 'carries_n-2', 'rushing_yards_n-2', 'rushing_tds_n-2', 'rushing_fumbles_n-2',\n",
    "                   'rushing_fumbles_lost_n-2', 'rushing_first_downs_n-2', 'rushing_epa_n-2', 'fantasy_points_n-2', 'qbr_total_n-2', 'pts_added_n-2', 'qb_plays_n-2', 'epa_total_n-2', 'pass_n-2', 'run_n-2', 'qbr_raw_n-2', 'qualified_n-2']]"
   ],
   "metadata": {
    "collapsed": false,
    "pycharm": {
     "name": "#%%\n"
    }
   }
  },
  {
   "cell_type": "code",
   "execution_count": 10,
   "outputs": [
    {
     "name": "stderr",
     "output_type": "stream",
     "text": [
      "/Users/benabraham/opt/anaconda3/envs/FantFootball/lib/python3.9/site-packages/xgboost/data.py:250: FutureWarning: pandas.Int64Index is deprecated and will be removed from pandas in a future version. Use pandas.Index with the appropriate dtype instead.\n",
      "  elif isinstance(data.columns, (pd.Int64Index, pd.RangeIndex)):\n"
     ]
    }
   ],
   "source": [
    "dtrain = xgb.DMatrix(predictors, label=label)"
   ],
   "metadata": {
    "collapsed": false,
    "pycharm": {
     "name": "#%%\n"
    }
   }
  },
  {
   "cell_type": "code",
   "execution_count": 11,
   "outputs": [
    {
     "data": {
      "text/plain": "<xgboost.core.DMatrix at 0x7fd96c41eb80>"
     },
     "execution_count": 11,
     "metadata": {},
     "output_type": "execute_result"
    }
   ],
   "source": [
    "dtrain"
   ],
   "metadata": {
    "collapsed": false,
    "pycharm": {
     "name": "#%%\n"
    }
   }
  },
  {
   "cell_type": "code",
   "execution_count": null,
   "outputs": [],
   "source": [
    "bst = xgb.train()"
   ],
   "metadata": {
    "collapsed": false,
    "pycharm": {
     "name": "#%%\n"
    }
   }
  }
 ],
 "metadata": {
  "kernelspec": {
   "display_name": "Python 3",
   "language": "python",
   "name": "python3"
  },
  "language_info": {
   "codemirror_mode": {
    "name": "ipython",
    "version": 2
   },
   "file_extension": ".py",
   "mimetype": "text/x-python",
   "name": "python",
   "nbconvert_exporter": "python",
   "pygments_lexer": "ipython2",
   "version": "2.7.6"
  }
 },
 "nbformat": 4,
 "nbformat_minor": 0
}