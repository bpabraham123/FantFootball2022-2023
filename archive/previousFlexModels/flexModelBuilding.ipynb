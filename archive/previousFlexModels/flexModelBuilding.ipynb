{
 "cells": [
  {
   "cell_type": "code",
   "execution_count": 43,
   "metadata": {},
   "outputs": [],
   "source": [
    "import pandas as pd\n",
    "import numpy as np\n",
    "import xgboost as xgb\n",
    "from sklearn.model_selection import train_test_split\n",
    "import sklearn.model_selection as ms\n",
    "import numpy as np\n",
    "from sklearn.metrics import mean_squared_error as MSE\n",
    "from sklearn.metrics import *\n",
    "from sklearn.model_selection import GroupShuffleSplit\n",
    "from sklearn.metrics import accuracy_score\n",
    "import plotly.express as px"
   ]
  },
  {
   "cell_type": "code",
   "execution_count": 3,
   "metadata": {},
   "outputs": [],
   "source": [
    "rbData = pd.read_parquet(\"rbDataV2.parquet\")\n",
    "wrData = pd.read_parquet(\"wrDataV2.parquet\")\n",
    "teData = pd.read_parquet(\"teDataV2.parquet\")"
   ]
  },
  {
   "cell_type": "code",
   "execution_count": 5,
   "metadata": {},
   "outputs": [],
   "source": [
    "rbData['position'] = [0 for i in range(rbData.shape[0])]\n",
    "wrData['position'] = [1 for i in range(wrData.shape[0])]\n",
    "teData['position'] = [2 for i in range(teData.shape[0])]"
   ]
  },
  {
   "cell_type": "code",
   "execution_count": 11,
   "metadata": {},
   "outputs": [],
   "source": [
    "df = pd.concat([rbData, wrData, teData])"
   ]
  },
  {
   "cell_type": "code",
   "execution_count": 71,
   "metadata": {},
   "outputs": [],
   "source": [
    "tier = []\n",
    "#thresholds = [20, 17, 14, 10.5, df['fantasy_points_ppr_per_game_future'].min()]\n",
    "thresholds = [12, 24, 36, 48, df['fantasy_rank_future'].max()]\n",
    "for row in df.itertuples():\n",
    "    myBool = False\n",
    "    for i in range(len(thresholds)):\n",
    "        #if row.fantasy_points_ppr_per_game_future >= thresholds[i]:\n",
    "        if row.fantasy_rank_future <= thresholds[i]:\n",
    "            myBool = True\n",
    "            tier.append(i)\n",
    "            break\n",
    "    if not myBool:\n",
    "        tier.append(None)\n",
    "df['tier_future'] = tier\n",
    "nextYear = df[df.season == 2021].copy()\n",
    "df = df.dropna(subset=['fantasy_points_ppr_future'])"
   ]
  },
  {
   "cell_type": "code",
   "execution_count": 72,
   "metadata": {},
   "outputs": [],
   "source": [
    "colsToDrop = ['player_id', 'season',\n",
    "              'fantasy_points_ppr_future', \n",
    "              'fantasy_points_ppr_per_game_future',\n",
    "              'fantasy_rank_future',\n",
    "              'per_game_fantasy_rank_future',\n",
    "              'tier_future']\n",
    "# separate featues and labels\n",
    "features = df.drop(colsToDrop, axis=1)\n",
    "labels = df['tier_future']\n",
    "# train-test split\n",
    "x_train, x_val, y_train, y_val = train_test_split(features, labels, train_size=0.85)"
   ]
  },
  {
   "cell_type": "code",
   "execution_count": 73,
   "metadata": {},
   "outputs": [
    {
     "data": {
      "text/plain": [
       "0.6487804878048781"
      ]
     },
     "execution_count": 73,
     "metadata": {},
     "output_type": "execute_result"
    }
   ],
   "source": [
    "# fit model no training data\n",
    "model = xgb.XGBClassifier(n_estimators=150, max_depth=8, learning_rate=0.2)\n",
    "model.fit(x_train, y_train)\n",
    "\n",
    "# make predictions for test data\n",
    "y_pred = model.predict(x_val)\n",
    "predictions = [round(value) for value in y_pred]\n",
    "# evaluate predictions\n",
    "accuracy = accuracy_score(y_val, predictions)\n",
    "accuracy"
   ]
  },
  {
   "cell_type": "code",
   "execution_count": 74,
   "metadata": {},
   "outputs": [],
   "source": [
    "cm = confusion_matrix(y_val, predictions)"
   ]
  },
  {
   "cell_type": "code",
   "execution_count": 75,
   "metadata": {},
   "outputs": [],
   "source": [
    "cm_df = pd.DataFrame(cm,\n",
    "                     index = range(1, len(thresholds)+1), \n",
    "                     columns = range(1, len(thresholds)+1))"
   ]
  },
  {
   "cell_type": "code",
   "execution_count": 76,
   "metadata": {},
   "outputs": [
    {
     "data": {
      "text/html": [
       "<div>\n",
       "<style scoped>\n",
       "    .dataframe tbody tr th:only-of-type {\n",
       "        vertical-align: middle;\n",
       "    }\n",
       "\n",
       "    .dataframe tbody tr th {\n",
       "        vertical-align: top;\n",
       "    }\n",
       "\n",
       "    .dataframe thead th {\n",
       "        text-align: right;\n",
       "    }\n",
       "</style>\n",
       "<table border=\"1\" class=\"dataframe\">\n",
       "  <thead>\n",
       "    <tr style=\"text-align: right;\">\n",
       "      <th></th>\n",
       "      <th>1</th>\n",
       "      <th>2</th>\n",
       "      <th>3</th>\n",
       "      <th>4</th>\n",
       "      <th>5</th>\n",
       "    </tr>\n",
       "  </thead>\n",
       "  <tbody>\n",
       "    <tr>\n",
       "      <th>1</th>\n",
       "      <td>25</td>\n",
       "      <td>5</td>\n",
       "      <td>3</td>\n",
       "      <td>2</td>\n",
       "      <td>16</td>\n",
       "    </tr>\n",
       "    <tr>\n",
       "      <th>2</th>\n",
       "      <td>10</td>\n",
       "      <td>4</td>\n",
       "      <td>7</td>\n",
       "      <td>1</td>\n",
       "      <td>18</td>\n",
       "    </tr>\n",
       "    <tr>\n",
       "      <th>3</th>\n",
       "      <td>5</td>\n",
       "      <td>4</td>\n",
       "      <td>2</td>\n",
       "      <td>2</td>\n",
       "      <td>21</td>\n",
       "    </tr>\n",
       "    <tr>\n",
       "      <th>4</th>\n",
       "      <td>4</td>\n",
       "      <td>7</td>\n",
       "      <td>1</td>\n",
       "      <td>2</td>\n",
       "      <td>17</td>\n",
       "    </tr>\n",
       "    <tr>\n",
       "      <th>5</th>\n",
       "      <td>8</td>\n",
       "      <td>5</td>\n",
       "      <td>4</td>\n",
       "      <td>4</td>\n",
       "      <td>233</td>\n",
       "    </tr>\n",
       "  </tbody>\n",
       "</table>\n",
       "</div>"
      ],
      "text/plain": [
       "    1  2  3  4    5\n",
       "1  25  5  3  2   16\n",
       "2  10  4  7  1   18\n",
       "3   5  4  2  2   21\n",
       "4   4  7  1  2   17\n",
       "5   8  5  4  4  233"
      ]
     },
     "execution_count": 76,
     "metadata": {},
     "output_type": "execute_result"
    }
   ],
   "source": [
    "cm_df"
   ]
  },
  {
   "cell_type": "code",
   "execution_count": 77,
   "metadata": {},
   "outputs": [
    {
     "data": {
      "application/vnd.plotly.v1+json": {
       "config": {
        "plotlyServerURL": "https://plot.ly"
       },
       "data": [
        {
         "alignmentgroup": "True",
         "bingroup": "x",
         "histfunc": "sum",
         "hovertemplate": "x=%{x}<br>sum of y=%{y}<extra></extra>",
         "legendgroup": "",
         "marker": {
          "color": "#636efa",
          "pattern": {
           "shape": ""
          }
         },
         "name": "",
         "offsetgroup": "",
         "orientation": "v",
         "showlegend": false,
         "type": "histogram",
         "x": [
          0,
          4,
          4,
          4,
          4,
          0,
          4,
          4,
          2,
          4,
          4,
          4,
          4,
          3,
          1,
          1,
          4,
          4,
          4,
          4,
          4,
          1,
          4,
          4,
          4,
          4,
          4,
          4,
          4,
          4,
          4,
          0,
          4,
          4,
          4,
          3,
          3,
          1,
          4,
          4,
          4,
          4,
          4,
          0,
          0,
          0,
          4,
          4,
          0,
          4,
          2,
          4,
          4,
          4,
          0,
          0,
          3,
          4,
          4,
          4,
          4,
          4,
          4,
          4,
          4,
          4,
          4,
          4,
          0,
          4,
          4,
          4,
          4,
          4,
          4,
          1,
          4,
          4,
          4,
          4,
          1,
          4,
          4,
          4,
          4,
          4,
          2,
          4,
          4,
          4,
          4,
          4,
          4,
          4,
          4,
          4,
          4,
          4,
          4,
          4,
          4,
          1,
          4,
          4,
          1,
          4,
          4,
          4,
          2,
          4,
          4,
          2,
          1,
          0,
          4,
          0,
          0,
          0,
          3,
          2,
          1,
          0,
          4,
          0,
          4,
          4,
          4,
          1,
          4,
          4,
          4,
          4,
          4,
          4,
          1,
          4,
          1,
          0,
          4,
          3,
          1,
          4,
          4,
          4,
          4,
          4,
          4,
          3,
          4,
          1,
          3,
          4,
          4,
          4,
          4,
          4,
          0,
          4,
          4,
          4,
          1,
          4,
          4,
          4,
          4,
          4,
          2,
          4,
          0,
          4,
          4,
          4,
          4,
          3,
          4,
          4,
          4,
          4,
          4,
          4,
          4,
          4,
          0,
          4,
          4,
          4,
          4,
          2,
          2,
          4,
          0,
          1,
          4,
          4,
          0,
          4,
          4,
          2,
          4,
          1,
          4,
          4,
          4,
          4,
          1,
          4,
          4,
          4,
          4,
          0,
          4,
          0,
          2,
          4,
          4,
          4,
          4,
          4,
          4,
          4,
          4,
          4,
          4,
          4,
          4,
          4,
          4,
          4,
          0,
          4,
          4,
          4,
          4,
          4,
          0,
          0,
          4,
          4,
          4,
          2,
          4,
          4,
          4,
          4,
          0,
          0,
          4,
          0,
          4,
          4,
          4,
          4,
          4,
          4,
          4,
          0,
          4,
          4,
          4,
          4,
          0,
          4,
          4,
          4,
          0,
          4,
          4,
          0,
          4,
          4,
          4,
          4,
          4,
          4,
          4,
          4,
          4,
          1,
          4,
          4,
          0,
          0,
          4,
          4,
          4,
          4,
          4,
          4,
          4,
          4,
          3,
          4,
          4,
          4,
          4,
          4,
          4,
          0,
          4,
          4,
          4,
          4,
          2,
          4,
          4,
          4,
          2,
          4,
          4,
          4,
          4,
          0,
          4,
          4,
          4,
          2,
          1,
          0,
          0,
          4,
          1,
          0,
          4,
          4,
          4,
          4,
          4,
          4,
          4,
          4,
          4,
          0,
          4,
          0,
          4,
          4,
          4,
          4,
          4,
          4,
          0,
          0,
          2,
          4,
          4,
          0,
          4,
          4,
          0,
          4,
          1,
          4,
          4,
          4,
          4,
          4,
          4,
          0,
          4,
          4,
          4,
          4,
          4,
          4,
          4,
          1,
          4,
          4,
          4,
          4,
          4,
          4,
          4,
          2,
          4,
          0,
          3,
          4,
          4,
          4,
          4,
          4,
          4,
          0,
          4,
          4,
          1,
          4,
          4,
          4,
          4,
          4,
          4,
          4,
          4,
          4,
          4,
          4,
          4,
          4,
          4,
          4,
          4,
          4,
          4,
          0,
          4,
          0,
          4,
          4
         ],
         "xaxis": "x",
         "y": [
          3,
          4,
          4,
          4,
          3,
          2,
          4,
          4,
          1,
          4,
          0,
          4,
          0,
          1,
          4,
          3,
          4,
          4,
          4,
          4,
          4,
          4,
          4,
          4,
          4,
          4,
          0,
          4,
          1,
          4,
          4,
          0,
          4,
          1,
          2,
          2,
          0,
          0,
          4,
          4,
          4,
          4,
          4,
          0,
          0,
          2,
          4,
          4,
          1,
          0,
          1,
          4,
          4,
          4,
          4,
          0,
          3,
          4,
          4,
          4,
          4,
          4,
          2,
          4,
          2,
          4,
          4,
          4,
          4,
          4,
          4,
          4,
          1,
          4,
          2,
          2,
          1,
          0,
          2,
          4,
          4,
          4,
          4,
          4,
          4,
          0,
          4,
          4,
          4,
          4,
          4,
          4,
          4,
          4,
          2,
          4,
          2,
          4,
          4,
          4,
          3,
          2,
          0,
          4,
          3,
          0,
          1,
          4,
          1,
          4,
          4,
          3,
          0,
          1,
          4,
          4,
          0,
          3,
          4,
          0,
          3,
          0,
          4,
          0,
          4,
          4,
          4,
          4,
          4,
          3,
          4,
          1,
          4,
          4,
          1,
          2,
          0,
          0,
          1,
          2,
          4,
          4,
          2,
          4,
          0,
          4,
          4,
          4,
          4,
          3,
          0,
          1,
          3,
          4,
          4,
          4,
          4,
          4,
          4,
          4,
          3,
          4,
          4,
          1,
          4,
          4,
          1,
          4,
          3,
          4,
          1,
          4,
          4,
          3,
          1,
          4,
          4,
          4,
          4,
          4,
          4,
          4,
          1,
          4,
          2,
          3,
          4,
          2,
          1,
          3,
          0,
          3,
          4,
          4,
          0,
          4,
          4,
          0,
          4,
          2,
          4,
          4,
          4,
          4,
          1,
          4,
          4,
          4,
          4,
          1,
          3,
          4,
          4,
          4,
          4,
          4,
          0,
          4,
          2,
          4,
          4,
          4,
          4,
          4,
          4,
          1,
          4,
          4,
          0,
          4,
          4,
          4,
          4,
          4,
          0,
          4,
          4,
          4,
          4,
          2,
          4,
          4,
          4,
          4,
          2,
          4,
          4,
          1,
          4,
          4,
          2,
          4,
          4,
          4,
          0,
          0,
          4,
          1,
          4,
          3,
          1,
          4,
          1,
          4,
          0,
          2,
          4,
          0,
          2,
          2,
          4,
          4,
          4,
          4,
          4,
          4,
          2,
          1,
          3,
          4,
          0,
          2,
          1,
          4,
          4,
          3,
          4,
          3,
          4,
          0,
          4,
          4,
          4,
          1,
          4,
          4,
          2,
          0,
          4,
          4,
          4,
          0,
          0,
          2,
          4,
          4,
          4,
          4,
          4,
          4,
          4,
          0,
          4,
          4,
          4,
          1,
          3,
          0,
          0,
          4,
          0,
          1,
          4,
          4,
          4,
          1,
          4,
          4,
          4,
          4,
          4,
          0,
          4,
          0,
          4,
          4,
          4,
          4,
          0,
          3,
          3,
          0,
          4,
          4,
          3,
          1,
          2,
          4,
          0,
          4,
          1,
          4,
          4,
          4,
          4,
          4,
          4,
          0,
          4,
          4,
          4,
          4,
          4,
          4,
          4,
          0,
          4,
          4,
          4,
          2,
          0,
          4,
          4,
          1,
          3,
          1,
          4,
          4,
          4,
          4,
          0,
          1,
          4,
          4,
          3,
          4,
          2,
          3,
          4,
          4,
          4,
          4,
          4,
          4,
          4,
          4,
          4,
          4,
          4,
          4,
          4,
          4,
          4,
          2,
          3,
          1,
          4,
          2,
          4,
          4
         ],
         "yaxis": "y"
        }
       ],
       "layout": {
        "barmode": "relative",
        "legend": {
         "tracegroupgap": 0
        },
        "margin": {
         "t": 60
        },
        "template": {
         "data": {
          "bar": [
           {
            "error_x": {
             "color": "#2a3f5f"
            },
            "error_y": {
             "color": "#2a3f5f"
            },
            "marker": {
             "line": {
              "color": "#E5ECF6",
              "width": 0.5
             },
             "pattern": {
              "fillmode": "overlay",
              "size": 10,
              "solidity": 0.2
             }
            },
            "type": "bar"
           }
          ],
          "barpolar": [
           {
            "marker": {
             "line": {
              "color": "#E5ECF6",
              "width": 0.5
             },
             "pattern": {
              "fillmode": "overlay",
              "size": 10,
              "solidity": 0.2
             }
            },
            "type": "barpolar"
           }
          ],
          "carpet": [
           {
            "aaxis": {
             "endlinecolor": "#2a3f5f",
             "gridcolor": "white",
             "linecolor": "white",
             "minorgridcolor": "white",
             "startlinecolor": "#2a3f5f"
            },
            "baxis": {
             "endlinecolor": "#2a3f5f",
             "gridcolor": "white",
             "linecolor": "white",
             "minorgridcolor": "white",
             "startlinecolor": "#2a3f5f"
            },
            "type": "carpet"
           }
          ],
          "choropleth": [
           {
            "colorbar": {
             "outlinewidth": 0,
             "ticks": ""
            },
            "type": "choropleth"
           }
          ],
          "contour": [
           {
            "colorbar": {
             "outlinewidth": 0,
             "ticks": ""
            },
            "colorscale": [
             [
              0,
              "#0d0887"
             ],
             [
              0.1111111111111111,
              "#46039f"
             ],
             [
              0.2222222222222222,
              "#7201a8"
             ],
             [
              0.3333333333333333,
              "#9c179e"
             ],
             [
              0.4444444444444444,
              "#bd3786"
             ],
             [
              0.5555555555555556,
              "#d8576b"
             ],
             [
              0.6666666666666666,
              "#ed7953"
             ],
             [
              0.7777777777777778,
              "#fb9f3a"
             ],
             [
              0.8888888888888888,
              "#fdca26"
             ],
             [
              1,
              "#f0f921"
             ]
            ],
            "type": "contour"
           }
          ],
          "contourcarpet": [
           {
            "colorbar": {
             "outlinewidth": 0,
             "ticks": ""
            },
            "type": "contourcarpet"
           }
          ],
          "heatmap": [
           {
            "colorbar": {
             "outlinewidth": 0,
             "ticks": ""
            },
            "colorscale": [
             [
              0,
              "#0d0887"
             ],
             [
              0.1111111111111111,
              "#46039f"
             ],
             [
              0.2222222222222222,
              "#7201a8"
             ],
             [
              0.3333333333333333,
              "#9c179e"
             ],
             [
              0.4444444444444444,
              "#bd3786"
             ],
             [
              0.5555555555555556,
              "#d8576b"
             ],
             [
              0.6666666666666666,
              "#ed7953"
             ],
             [
              0.7777777777777778,
              "#fb9f3a"
             ],
             [
              0.8888888888888888,
              "#fdca26"
             ],
             [
              1,
              "#f0f921"
             ]
            ],
            "type": "heatmap"
           }
          ],
          "heatmapgl": [
           {
            "colorbar": {
             "outlinewidth": 0,
             "ticks": ""
            },
            "colorscale": [
             [
              0,
              "#0d0887"
             ],
             [
              0.1111111111111111,
              "#46039f"
             ],
             [
              0.2222222222222222,
              "#7201a8"
             ],
             [
              0.3333333333333333,
              "#9c179e"
             ],
             [
              0.4444444444444444,
              "#bd3786"
             ],
             [
              0.5555555555555556,
              "#d8576b"
             ],
             [
              0.6666666666666666,
              "#ed7953"
             ],
             [
              0.7777777777777778,
              "#fb9f3a"
             ],
             [
              0.8888888888888888,
              "#fdca26"
             ],
             [
              1,
              "#f0f921"
             ]
            ],
            "type": "heatmapgl"
           }
          ],
          "histogram": [
           {
            "marker": {
             "pattern": {
              "fillmode": "overlay",
              "size": 10,
              "solidity": 0.2
             }
            },
            "type": "histogram"
           }
          ],
          "histogram2d": [
           {
            "colorbar": {
             "outlinewidth": 0,
             "ticks": ""
            },
            "colorscale": [
             [
              0,
              "#0d0887"
             ],
             [
              0.1111111111111111,
              "#46039f"
             ],
             [
              0.2222222222222222,
              "#7201a8"
             ],
             [
              0.3333333333333333,
              "#9c179e"
             ],
             [
              0.4444444444444444,
              "#bd3786"
             ],
             [
              0.5555555555555556,
              "#d8576b"
             ],
             [
              0.6666666666666666,
              "#ed7953"
             ],
             [
              0.7777777777777778,
              "#fb9f3a"
             ],
             [
              0.8888888888888888,
              "#fdca26"
             ],
             [
              1,
              "#f0f921"
             ]
            ],
            "type": "histogram2d"
           }
          ],
          "histogram2dcontour": [
           {
            "colorbar": {
             "outlinewidth": 0,
             "ticks": ""
            },
            "colorscale": [
             [
              0,
              "#0d0887"
             ],
             [
              0.1111111111111111,
              "#46039f"
             ],
             [
              0.2222222222222222,
              "#7201a8"
             ],
             [
              0.3333333333333333,
              "#9c179e"
             ],
             [
              0.4444444444444444,
              "#bd3786"
             ],
             [
              0.5555555555555556,
              "#d8576b"
             ],
             [
              0.6666666666666666,
              "#ed7953"
             ],
             [
              0.7777777777777778,
              "#fb9f3a"
             ],
             [
              0.8888888888888888,
              "#fdca26"
             ],
             [
              1,
              "#f0f921"
             ]
            ],
            "type": "histogram2dcontour"
           }
          ],
          "mesh3d": [
           {
            "colorbar": {
             "outlinewidth": 0,
             "ticks": ""
            },
            "type": "mesh3d"
           }
          ],
          "parcoords": [
           {
            "line": {
             "colorbar": {
              "outlinewidth": 0,
              "ticks": ""
             }
            },
            "type": "parcoords"
           }
          ],
          "pie": [
           {
            "automargin": true,
            "type": "pie"
           }
          ],
          "scatter": [
           {
            "fillpattern": {
             "fillmode": "overlay",
             "size": 10,
             "solidity": 0.2
            },
            "type": "scatter"
           }
          ],
          "scatter3d": [
           {
            "line": {
             "colorbar": {
              "outlinewidth": 0,
              "ticks": ""
             }
            },
            "marker": {
             "colorbar": {
              "outlinewidth": 0,
              "ticks": ""
             }
            },
            "type": "scatter3d"
           }
          ],
          "scattercarpet": [
           {
            "marker": {
             "colorbar": {
              "outlinewidth": 0,
              "ticks": ""
             }
            },
            "type": "scattercarpet"
           }
          ],
          "scattergeo": [
           {
            "marker": {
             "colorbar": {
              "outlinewidth": 0,
              "ticks": ""
             }
            },
            "type": "scattergeo"
           }
          ],
          "scattergl": [
           {
            "marker": {
             "colorbar": {
              "outlinewidth": 0,
              "ticks": ""
             }
            },
            "type": "scattergl"
           }
          ],
          "scattermapbox": [
           {
            "marker": {
             "colorbar": {
              "outlinewidth": 0,
              "ticks": ""
             }
            },
            "type": "scattermapbox"
           }
          ],
          "scatterpolar": [
           {
            "marker": {
             "colorbar": {
              "outlinewidth": 0,
              "ticks": ""
             }
            },
            "type": "scatterpolar"
           }
          ],
          "scatterpolargl": [
           {
            "marker": {
             "colorbar": {
              "outlinewidth": 0,
              "ticks": ""
             }
            },
            "type": "scatterpolargl"
           }
          ],
          "scatterternary": [
           {
            "marker": {
             "colorbar": {
              "outlinewidth": 0,
              "ticks": ""
             }
            },
            "type": "scatterternary"
           }
          ],
          "surface": [
           {
            "colorbar": {
             "outlinewidth": 0,
             "ticks": ""
            },
            "colorscale": [
             [
              0,
              "#0d0887"
             ],
             [
              0.1111111111111111,
              "#46039f"
             ],
             [
              0.2222222222222222,
              "#7201a8"
             ],
             [
              0.3333333333333333,
              "#9c179e"
             ],
             [
              0.4444444444444444,
              "#bd3786"
             ],
             [
              0.5555555555555556,
              "#d8576b"
             ],
             [
              0.6666666666666666,
              "#ed7953"
             ],
             [
              0.7777777777777778,
              "#fb9f3a"
             ],
             [
              0.8888888888888888,
              "#fdca26"
             ],
             [
              1,
              "#f0f921"
             ]
            ],
            "type": "surface"
           }
          ],
          "table": [
           {
            "cells": {
             "fill": {
              "color": "#EBF0F8"
             },
             "line": {
              "color": "white"
             }
            },
            "header": {
             "fill": {
              "color": "#C8D4E3"
             },
             "line": {
              "color": "white"
             }
            },
            "type": "table"
           }
          ]
         },
         "layout": {
          "annotationdefaults": {
           "arrowcolor": "#2a3f5f",
           "arrowhead": 0,
           "arrowwidth": 1
          },
          "autotypenumbers": "strict",
          "coloraxis": {
           "colorbar": {
            "outlinewidth": 0,
            "ticks": ""
           }
          },
          "colorscale": {
           "diverging": [
            [
             0,
             "#8e0152"
            ],
            [
             0.1,
             "#c51b7d"
            ],
            [
             0.2,
             "#de77ae"
            ],
            [
             0.3,
             "#f1b6da"
            ],
            [
             0.4,
             "#fde0ef"
            ],
            [
             0.5,
             "#f7f7f7"
            ],
            [
             0.6,
             "#e6f5d0"
            ],
            [
             0.7,
             "#b8e186"
            ],
            [
             0.8,
             "#7fbc41"
            ],
            [
             0.9,
             "#4d9221"
            ],
            [
             1,
             "#276419"
            ]
           ],
           "sequential": [
            [
             0,
             "#0d0887"
            ],
            [
             0.1111111111111111,
             "#46039f"
            ],
            [
             0.2222222222222222,
             "#7201a8"
            ],
            [
             0.3333333333333333,
             "#9c179e"
            ],
            [
             0.4444444444444444,
             "#bd3786"
            ],
            [
             0.5555555555555556,
             "#d8576b"
            ],
            [
             0.6666666666666666,
             "#ed7953"
            ],
            [
             0.7777777777777778,
             "#fb9f3a"
            ],
            [
             0.8888888888888888,
             "#fdca26"
            ],
            [
             1,
             "#f0f921"
            ]
           ],
           "sequentialminus": [
            [
             0,
             "#0d0887"
            ],
            [
             0.1111111111111111,
             "#46039f"
            ],
            [
             0.2222222222222222,
             "#7201a8"
            ],
            [
             0.3333333333333333,
             "#9c179e"
            ],
            [
             0.4444444444444444,
             "#bd3786"
            ],
            [
             0.5555555555555556,
             "#d8576b"
            ],
            [
             0.6666666666666666,
             "#ed7953"
            ],
            [
             0.7777777777777778,
             "#fb9f3a"
            ],
            [
             0.8888888888888888,
             "#fdca26"
            ],
            [
             1,
             "#f0f921"
            ]
           ]
          },
          "colorway": [
           "#636efa",
           "#EF553B",
           "#00cc96",
           "#ab63fa",
           "#FFA15A",
           "#19d3f3",
           "#FF6692",
           "#B6E880",
           "#FF97FF",
           "#FECB52"
          ],
          "font": {
           "color": "#2a3f5f"
          },
          "geo": {
           "bgcolor": "white",
           "lakecolor": "white",
           "landcolor": "#E5ECF6",
           "showlakes": true,
           "showland": true,
           "subunitcolor": "white"
          },
          "hoverlabel": {
           "align": "left"
          },
          "hovermode": "closest",
          "mapbox": {
           "style": "light"
          },
          "paper_bgcolor": "white",
          "plot_bgcolor": "#E5ECF6",
          "polar": {
           "angularaxis": {
            "gridcolor": "white",
            "linecolor": "white",
            "ticks": ""
           },
           "bgcolor": "#E5ECF6",
           "radialaxis": {
            "gridcolor": "white",
            "linecolor": "white",
            "ticks": ""
           }
          },
          "scene": {
           "xaxis": {
            "backgroundcolor": "#E5ECF6",
            "gridcolor": "white",
            "gridwidth": 2,
            "linecolor": "white",
            "showbackground": true,
            "ticks": "",
            "zerolinecolor": "white"
           },
           "yaxis": {
            "backgroundcolor": "#E5ECF6",
            "gridcolor": "white",
            "gridwidth": 2,
            "linecolor": "white",
            "showbackground": true,
            "ticks": "",
            "zerolinecolor": "white"
           },
           "zaxis": {
            "backgroundcolor": "#E5ECF6",
            "gridcolor": "white",
            "gridwidth": 2,
            "linecolor": "white",
            "showbackground": true,
            "ticks": "",
            "zerolinecolor": "white"
           }
          },
          "shapedefaults": {
           "line": {
            "color": "#2a3f5f"
           }
          },
          "ternary": {
           "aaxis": {
            "gridcolor": "white",
            "linecolor": "white",
            "ticks": ""
           },
           "baxis": {
            "gridcolor": "white",
            "linecolor": "white",
            "ticks": ""
           },
           "bgcolor": "#E5ECF6",
           "caxis": {
            "gridcolor": "white",
            "linecolor": "white",
            "ticks": ""
           }
          },
          "title": {
           "x": 0.05
          },
          "xaxis": {
           "automargin": true,
           "gridcolor": "white",
           "linecolor": "white",
           "ticks": "",
           "title": {
            "standoff": 15
           },
           "zerolinecolor": "white",
           "zerolinewidth": 2
          },
          "yaxis": {
           "automargin": true,
           "gridcolor": "white",
           "linecolor": "white",
           "ticks": "",
           "title": {
            "standoff": 15
           },
           "zerolinecolor": "white",
           "zerolinewidth": 2
          }
         }
        },
        "xaxis": {
         "anchor": "y",
         "domain": [
          0,
          1
         ],
         "title": {
          "text": "x"
         }
        },
        "yaxis": {
         "anchor": "x",
         "domain": [
          0,
          1
         ],
         "title": {
          "text": "sum of y"
         }
        }
       }
      }
     },
     "metadata": {},
     "output_type": "display_data"
    }
   ],
   "source": [
    "px.histogram(x=predictions, y=y_val)"
   ]
  },
  {
   "cell_type": "code",
   "execution_count": 70,
   "metadata": {},
   "outputs": [
    {
     "data": {
      "text/html": [
       "<div>\n",
       "<style scoped>\n",
       "    .dataframe tbody tr th:only-of-type {\n",
       "        vertical-align: middle;\n",
       "    }\n",
       "\n",
       "    .dataframe tbody tr th {\n",
       "        vertical-align: top;\n",
       "    }\n",
       "\n",
       "    .dataframe thead th {\n",
       "        text-align: right;\n",
       "    }\n",
       "</style>\n",
       "<table border=\"1\" class=\"dataframe\">\n",
       "  <thead>\n",
       "    <tr style=\"text-align: right;\">\n",
       "      <th></th>\n",
       "      <th>player_id</th>\n",
       "      <th>season</th>\n",
       "      <th>age</th>\n",
       "      <th>height</th>\n",
       "      <th>weight</th>\n",
       "      <th>experience</th>\n",
       "      <th>draft_pick</th>\n",
       "      <th>games</th>\n",
       "      <th>carries</th>\n",
       "      <th>rushing_yards</th>\n",
       "      <th>...</th>\n",
       "      <th>receiving_tds_per_game_n-2</th>\n",
       "      <th>receiving_air_yards_per_game_n-2</th>\n",
       "      <th>receiving_yards_after_catch_per_game_n-2</th>\n",
       "      <th>receiving_first_downs_per_game_n-2</th>\n",
       "      <th>receiving_epa_per_game_n-2</th>\n",
       "      <th>fantasy_points_ppr_per_game_n-2</th>\n",
       "      <th>fantasy_rank_n-2</th>\n",
       "      <th>per_game_fantasy_rank_n-2</th>\n",
       "      <th>position</th>\n",
       "      <th>tier_future</th>\n",
       "    </tr>\n",
       "  </thead>\n",
       "  <tbody>\n",
       "    <tr>\n",
       "      <th>1</th>\n",
       "      <td>00-0026184</td>\n",
       "      <td>2013</td>\n",
       "      <td>28</td>\n",
       "      <td>74.0</td>\n",
       "      <td>218.0</td>\n",
       "      <td>5.0</td>\n",
       "      <td>13.0</td>\n",
       "      <td>16</td>\n",
       "      <td>289</td>\n",
       "      <td>1339.0</td>\n",
       "      <td>...</td>\n",
       "      <td>NaN</td>\n",
       "      <td>NaN</td>\n",
       "      <td>NaN</td>\n",
       "      <td>NaN</td>\n",
       "      <td>NaN</td>\n",
       "      <td>NaN</td>\n",
       "      <td>NaN</td>\n",
       "      <td>NaN</td>\n",
       "      <td>0</td>\n",
       "      <td>0</td>\n",
       "    </tr>\n",
       "    <tr>\n",
       "      <th>5</th>\n",
       "      <td>00-0028009</td>\n",
       "      <td>2013</td>\n",
       "      <td>25</td>\n",
       "      <td>73.0</td>\n",
       "      <td>220.0</td>\n",
       "      <td>2.0</td>\n",
       "      <td>7.0</td>\n",
       "      <td>14</td>\n",
       "      <td>217</td>\n",
       "      <td>1121.0</td>\n",
       "      <td>...</td>\n",
       "      <td>NaN</td>\n",
       "      <td>NaN</td>\n",
       "      <td>NaN</td>\n",
       "      <td>NaN</td>\n",
       "      <td>NaN</td>\n",
       "      <td>NaN</td>\n",
       "      <td>NaN</td>\n",
       "      <td>NaN</td>\n",
       "      <td>0</td>\n",
       "      <td>0</td>\n",
       "    </tr>\n",
       "    <tr>\n",
       "      <th>6</th>\n",
       "      <td>00-0025399</td>\n",
       "      <td>2013</td>\n",
       "      <td>27</td>\n",
       "      <td>71.0</td>\n",
       "      <td>215.0</td>\n",
       "      <td>6.0</td>\n",
       "      <td>12.0</td>\n",
       "      <td>16</td>\n",
       "      <td>301</td>\n",
       "      <td>1257.0</td>\n",
       "      <td>...</td>\n",
       "      <td>NaN</td>\n",
       "      <td>NaN</td>\n",
       "      <td>NaN</td>\n",
       "      <td>NaN</td>\n",
       "      <td>NaN</td>\n",
       "      <td>NaN</td>\n",
       "      <td>NaN</td>\n",
       "      <td>NaN</td>\n",
       "      <td>0</td>\n",
       "      <td>0</td>\n",
       "    </tr>\n",
       "    <tr>\n",
       "      <th>9</th>\n",
       "      <td>00-0030496</td>\n",
       "      <td>2013</td>\n",
       "      <td>21</td>\n",
       "      <td>73.0</td>\n",
       "      <td>225.0</td>\n",
       "      <td>0.0</td>\n",
       "      <td>16.0</td>\n",
       "      <td>13</td>\n",
       "      <td>244</td>\n",
       "      <td>860.0</td>\n",
       "      <td>...</td>\n",
       "      <td>NaN</td>\n",
       "      <td>NaN</td>\n",
       "      <td>NaN</td>\n",
       "      <td>NaN</td>\n",
       "      <td>NaN</td>\n",
       "      <td>NaN</td>\n",
       "      <td>NaN</td>\n",
       "      <td>NaN</td>\n",
       "      <td>0</td>\n",
       "      <td>0</td>\n",
       "    </tr>\n",
       "    <tr>\n",
       "      <th>23</th>\n",
       "      <td>00-0025394</td>\n",
       "      <td>2014</td>\n",
       "      <td>29</td>\n",
       "      <td>73.0</td>\n",
       "      <td>220.0</td>\n",
       "      <td>7.0</td>\n",
       "      <td>7.0</td>\n",
       "      <td>1</td>\n",
       "      <td>21</td>\n",
       "      <td>75.0</td>\n",
       "      <td>...</td>\n",
       "      <td>NaN</td>\n",
       "      <td>NaN</td>\n",
       "      <td>NaN</td>\n",
       "      <td>NaN</td>\n",
       "      <td>NaN</td>\n",
       "      <td>NaN</td>\n",
       "      <td>NaN</td>\n",
       "      <td>NaN</td>\n",
       "      <td>0</td>\n",
       "      <td>0</td>\n",
       "    </tr>\n",
       "    <tr>\n",
       "      <th>...</th>\n",
       "      <td>...</td>\n",
       "      <td>...</td>\n",
       "      <td>...</td>\n",
       "      <td>...</td>\n",
       "      <td>...</td>\n",
       "      <td>...</td>\n",
       "      <td>...</td>\n",
       "      <td>...</td>\n",
       "      <td>...</td>\n",
       "      <td>...</td>\n",
       "      <td>...</td>\n",
       "      <td>...</td>\n",
       "      <td>...</td>\n",
       "      <td>...</td>\n",
       "      <td>...</td>\n",
       "      <td>...</td>\n",
       "      <td>...</td>\n",
       "      <td>...</td>\n",
       "      <td>...</td>\n",
       "      <td>...</td>\n",
       "      <td>...</td>\n",
       "    </tr>\n",
       "    <tr>\n",
       "      <th>77</th>\n",
       "      <td>00-0033757</td>\n",
       "      <td>2019</td>\n",
       "      <td>25</td>\n",
       "      <td>77.0</td>\n",
       "      <td>237.0</td>\n",
       "      <td>2.0</td>\n",
       "      <td>NaN</td>\n",
       "      <td>9</td>\n",
       "      <td>0</td>\n",
       "      <td>0.0</td>\n",
       "      <td>...</td>\n",
       "      <td>NaN</td>\n",
       "      <td>NaN</td>\n",
       "      <td>NaN</td>\n",
       "      <td>NaN</td>\n",
       "      <td>NaN</td>\n",
       "      <td>NaN</td>\n",
       "      <td>NaN</td>\n",
       "      <td>NaN</td>\n",
       "      <td>2</td>\n",
       "      <td>0</td>\n",
       "    </tr>\n",
       "    <tr>\n",
       "      <th>0</th>\n",
       "      <td>00-0030506</td>\n",
       "      <td>2020</td>\n",
       "      <td>31</td>\n",
       "      <td>77.0</td>\n",
       "      <td>260.0</td>\n",
       "      <td>7.0</td>\n",
       "      <td>1.0</td>\n",
       "      <td>15</td>\n",
       "      <td>0</td>\n",
       "      <td>0.0</td>\n",
       "      <td>...</td>\n",
       "      <td>0.6250</td>\n",
       "      <td>85.9375</td>\n",
       "      <td>35.500000</td>\n",
       "      <td>4.250000</td>\n",
       "      <td>4.386287</td>\n",
       "      <td>18.412500</td>\n",
       "      <td>1.0</td>\n",
       "      <td>1.0</td>\n",
       "      <td>2</td>\n",
       "      <td>0</td>\n",
       "    </tr>\n",
       "    <tr>\n",
       "      <th>2</th>\n",
       "      <td>00-0033288</td>\n",
       "      <td>2020</td>\n",
       "      <td>27</td>\n",
       "      <td>76.0</td>\n",
       "      <td>250.0</td>\n",
       "      <td>3.0</td>\n",
       "      <td>2.0</td>\n",
       "      <td>8</td>\n",
       "      <td>2</td>\n",
       "      <td>17.0</td>\n",
       "      <td>...</td>\n",
       "      <td>0.3125</td>\n",
       "      <td>62.2500</td>\n",
       "      <td>54.375000</td>\n",
       "      <td>3.750000</td>\n",
       "      <td>4.077783</td>\n",
       "      <td>16.168750</td>\n",
       "      <td>3.0</td>\n",
       "      <td>3.0</td>\n",
       "      <td>2</td>\n",
       "      <td>0</td>\n",
       "    </tr>\n",
       "    <tr>\n",
       "      <th>3</th>\n",
       "      <td>00-0034753</td>\n",
       "      <td>2020</td>\n",
       "      <td>25</td>\n",
       "      <td>76.0</td>\n",
       "      <td>256.0</td>\n",
       "      <td>2.0</td>\n",
       "      <td>22.0</td>\n",
       "      <td>14</td>\n",
       "      <td>0</td>\n",
       "      <td>0.0</td>\n",
       "      <td>...</td>\n",
       "      <td>0.1875</td>\n",
       "      <td>33.1875</td>\n",
       "      <td>12.062500</td>\n",
       "      <td>1.750000</td>\n",
       "      <td>2.422514</td>\n",
       "      <td>6.700000</td>\n",
       "      <td>18.0</td>\n",
       "      <td>26.0</td>\n",
       "      <td>2</td>\n",
       "      <td>0</td>\n",
       "    </tr>\n",
       "    <tr>\n",
       "      <th>18</th>\n",
       "      <td>00-0034383</td>\n",
       "      <td>2020</td>\n",
       "      <td>24</td>\n",
       "      <td>77.0</td>\n",
       "      <td>260.0</td>\n",
       "      <td>2.0</td>\n",
       "      <td>37.0</td>\n",
       "      <td>16</td>\n",
       "      <td>0</td>\n",
       "      <td>0.0</td>\n",
       "      <td>...</td>\n",
       "      <td>0.0000</td>\n",
       "      <td>10.0000</td>\n",
       "      <td>9.428571</td>\n",
       "      <td>0.857143</td>\n",
       "      <td>0.533758</td>\n",
       "      <td>3.371429</td>\n",
       "      <td>72.0</td>\n",
       "      <td>82.0</td>\n",
       "      <td>2</td>\n",
       "      <td>0</td>\n",
       "    </tr>\n",
       "  </tbody>\n",
       "</table>\n",
       "<p>88 rows × 166 columns</p>\n",
       "</div>"
      ],
      "text/plain": [
       "     player_id  season  age  height  weight  experience  draft_pick  games  \\\n",
       "1   00-0026184    2013   28    74.0   218.0         5.0        13.0     16   \n",
       "5   00-0028009    2013   25    73.0   220.0         2.0         7.0     14   \n",
       "6   00-0025399    2013   27    71.0   215.0         6.0        12.0     16   \n",
       "9   00-0030496    2013   21    73.0   225.0         0.0        16.0     13   \n",
       "23  00-0025394    2014   29    73.0   220.0         7.0         7.0      1   \n",
       "..         ...     ...  ...     ...     ...         ...         ...    ...   \n",
       "77  00-0033757    2019   25    77.0   237.0         2.0         NaN      9   \n",
       "0   00-0030506    2020   31    77.0   260.0         7.0         1.0     15   \n",
       "2   00-0033288    2020   27    76.0   250.0         3.0         2.0      8   \n",
       "3   00-0034753    2020   25    76.0   256.0         2.0        22.0     14   \n",
       "18  00-0034383    2020   24    77.0   260.0         2.0        37.0     16   \n",
       "\n",
       "    carries  rushing_yards  ...  receiving_tds_per_game_n-2  \\\n",
       "1       289         1339.0  ...                         NaN   \n",
       "5       217         1121.0  ...                         NaN   \n",
       "6       301         1257.0  ...                         NaN   \n",
       "9       244          860.0  ...                         NaN   \n",
       "23       21           75.0  ...                         NaN   \n",
       "..      ...            ...  ...                         ...   \n",
       "77        0            0.0  ...                         NaN   \n",
       "0         0            0.0  ...                      0.6250   \n",
       "2         2           17.0  ...                      0.3125   \n",
       "3         0            0.0  ...                      0.1875   \n",
       "18        0            0.0  ...                      0.0000   \n",
       "\n",
       "    receiving_air_yards_per_game_n-2  \\\n",
       "1                                NaN   \n",
       "5                                NaN   \n",
       "6                                NaN   \n",
       "9                                NaN   \n",
       "23                               NaN   \n",
       "..                               ...   \n",
       "77                               NaN   \n",
       "0                            85.9375   \n",
       "2                            62.2500   \n",
       "3                            33.1875   \n",
       "18                           10.0000   \n",
       "\n",
       "    receiving_yards_after_catch_per_game_n-2  \\\n",
       "1                                        NaN   \n",
       "5                                        NaN   \n",
       "6                                        NaN   \n",
       "9                                        NaN   \n",
       "23                                       NaN   \n",
       "..                                       ...   \n",
       "77                                       NaN   \n",
       "0                                  35.500000   \n",
       "2                                  54.375000   \n",
       "3                                  12.062500   \n",
       "18                                  9.428571   \n",
       "\n",
       "    receiving_first_downs_per_game_n-2  receiving_epa_per_game_n-2  \\\n",
       "1                                  NaN                         NaN   \n",
       "5                                  NaN                         NaN   \n",
       "6                                  NaN                         NaN   \n",
       "9                                  NaN                         NaN   \n",
       "23                                 NaN                         NaN   \n",
       "..                                 ...                         ...   \n",
       "77                                 NaN                         NaN   \n",
       "0                             4.250000                    4.386287   \n",
       "2                             3.750000                    4.077783   \n",
       "3                             1.750000                    2.422514   \n",
       "18                            0.857143                    0.533758   \n",
       "\n",
       "    fantasy_points_ppr_per_game_n-2  fantasy_rank_n-2  \\\n",
       "1                               NaN               NaN   \n",
       "5                               NaN               NaN   \n",
       "6                               NaN               NaN   \n",
       "9                               NaN               NaN   \n",
       "23                              NaN               NaN   \n",
       "..                              ...               ...   \n",
       "77                              NaN               NaN   \n",
       "0                         18.412500               1.0   \n",
       "2                         16.168750               3.0   \n",
       "3                          6.700000              18.0   \n",
       "18                         3.371429              72.0   \n",
       "\n",
       "    per_game_fantasy_rank_n-2  position  tier_future  \n",
       "1                         NaN         0            0  \n",
       "5                         NaN         0            0  \n",
       "6                         NaN         0            0  \n",
       "9                         NaN         0            0  \n",
       "23                        NaN         0            0  \n",
       "..                        ...       ...          ...  \n",
       "77                        NaN         2            0  \n",
       "0                         1.0         2            0  \n",
       "2                         3.0         2            0  \n",
       "3                        26.0         2            0  \n",
       "18                       82.0         2            0  \n",
       "\n",
       "[88 rows x 166 columns]"
      ]
     },
     "execution_count": 70,
     "metadata": {},
     "output_type": "execute_result"
    }
   ],
   "source": [
    "df[df.tier_future == 0]"
   ]
  },
  {
   "cell_type": "code",
   "execution_count": null,
   "metadata": {},
   "outputs": [],
   "source": []
  }
 ],
 "metadata": {
  "kernelspec": {
   "display_name": "Python 3.9.12 ('FantFootballV2')",
   "language": "python",
   "name": "python3"
  },
  "language_info": {
   "codemirror_mode": {
    "name": "ipython",
    "version": 3
   },
   "file_extension": ".py",
   "mimetype": "text/x-python",
   "name": "python",
   "nbconvert_exporter": "python",
   "pygments_lexer": "ipython3",
   "version": "3.9.12"
  },
  "orig_nbformat": 4,
  "vscode": {
   "interpreter": {
    "hash": "5fd2b6fb039f954710ccc43b58fd3e1f95c473cd6a07930eaf4635305e8115e1"
   }
  }
 },
 "nbformat": 4,
 "nbformat_minor": 2
}
