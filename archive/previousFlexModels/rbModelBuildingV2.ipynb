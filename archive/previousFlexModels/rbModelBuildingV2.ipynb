{
 "cells": [
  {
   "cell_type": "code",
   "execution_count": 1,
   "metadata": {},
   "outputs": [],
   "source": [
    "import pandas as pd\n",
    "import numpy as np\n",
    "import xgboost as xgb\n",
    "from sklearn.model_selection import train_test_split\n",
    "import sklearn.model_selection as ms\n",
    "import numpy as np\n",
    "from sklearn.metrics import mean_squared_error as MSE\n",
    "from sklearn.metrics import *"
   ]
  },
  {
   "cell_type": "code",
   "execution_count": 2,
   "metadata": {},
   "outputs": [],
   "source": [
    "df = pd.read_parquet('rbData.parquet')"
   ]
  },
  {
   "cell_type": "code",
   "execution_count": 3,
   "metadata": {},
   "outputs": [],
   "source": [
    "df = df.dropna(subset=['fantasy_points_ppr_future'])"
   ]
  },
  {
   "cell_type": "code",
   "execution_count": 4,
   "metadata": {},
   "outputs": [],
   "source": [
    "colsToDrop = ['player_id', 'fantasy_points_ppr_future', 'fantasy_points_ppr_per_game_future']"
   ]
  },
  {
   "cell_type": "code",
   "execution_count": 11,
   "metadata": {},
   "outputs": [],
   "source": [
    "# separate featues and labels\n",
    "features = df.drop(colsToDrop, axis=1)\n",
    "labels = df['fantasy_points_ppr_per_game_future']\n",
    "# train-test split\n",
    "x_train, x_val, y_train, y_val = train_test_split(features, labels, train_size=0.95)"
   ]
  },
  {
   "cell_type": "code",
   "execution_count": 12,
   "metadata": {},
   "outputs": [],
   "source": [
    "best_n_estimators = 0\n",
    "best_depth = 0\n",
    "best_rmse = np.inf\n",
    "for depth in range(1, 15):\n",
    "    for num in range(1, 50):\n",
    "        # Instantiation\n",
    "        xgb_r = xgb.XGBRegressor(objective ='reg:squarederror',\n",
    "                                 n_estimators = num, seed = 23,\n",
    "                                 max_depth=depth, subsample=1, colsample_bytree=1)\n",
    " \n",
    "        # Fitting the model\n",
    "        xgb_r.fit(x_train, y_train)\n",
    " \n",
    "        # Predict the model\n",
    "        pred = xgb_r.predict(x_val)\n",
    " \n",
    "        # RMSE Computation\n",
    "        rmse = np.sqrt(MSE(y_val, pred))\n",
    "        if rmse < best_rmse:\n",
    "            best_n_estimators = num\n",
    "            best_depth = depth\n",
    "            best_rmse = rmse\n",
    "    \n"
   ]
  },
  {
   "cell_type": "code",
   "execution_count": 13,
   "metadata": {},
   "outputs": [
    {
     "name": "stdout",
     "output_type": "stream",
     "text": [
      "8 6 3.7950172777357807\n"
     ]
    }
   ],
   "source": [
    "print(best_n_estimators, best_depth, best_rmse)"
   ]
  },
  {
   "cell_type": "code",
   "execution_count": null,
   "metadata": {},
   "outputs": [],
   "source": []
  },
  {
   "cell_type": "code",
   "execution_count": null,
   "metadata": {},
   "outputs": [],
   "source": []
  }
 ],
 "metadata": {
  "kernelspec": {
   "display_name": "Python 3.9.12 ('FantFootballV2')",
   "language": "python",
   "name": "python3"
  },
  "language_info": {
   "codemirror_mode": {
    "name": "ipython",
    "version": 3
   },
   "file_extension": ".py",
   "mimetype": "text/x-python",
   "name": "python",
   "nbconvert_exporter": "python",
   "pygments_lexer": "ipython3",
   "version": "3.9.12"
  },
  "orig_nbformat": 4,
  "vscode": {
   "interpreter": {
    "hash": "5fd2b6fb039f954710ccc43b58fd3e1f95c473cd6a07930eaf4635305e8115e1"
   }
  }
 },
 "nbformat": 4,
 "nbformat_minor": 2
}
