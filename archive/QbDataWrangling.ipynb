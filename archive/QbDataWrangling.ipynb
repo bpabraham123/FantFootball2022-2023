{
 "cells": [
  {
   "cell_type": "code",
   "execution_count": 5,
   "metadata": {
    "collapsed": false,
    "pycharm": {
     "name": "#%%\n"
    }
   },
   "outputs": [],
   "source": [
    "import pandas as pd\n",
    "import nfl_data_py as nfl\n",
    "from datetime import datetime\n",
    "from dateutil import relativedelta"
   ]
  },
  {
   "cell_type": "code",
   "execution_count": 37,
   "metadata": {
    "collapsed": false,
    "pycharm": {
     "name": "#%%\n"
    }
   },
   "outputs": [],
   "source": [
    "def get_data(year: int):\n",
    "    if year < 2006:\n",
    "        raise Exception('Date must be greater than 2005')\n",
    "    data = nfl.import_weekly_data([year])\n",
    "    data = data[data.season_type == 'REG']\n",
    "    names = data[['player_id', 'player_name', 'season']]\n",
    "    names = names.drop_duplicates(subset='player_id')\n",
    "    data = data.drop(columns=['week', 'season', 'rushing_2pt_conversions', 'receptions', 'targets', 'receiving_yards', 'receiving_tds', 'receiving_fumbles', 'receiving_fumbles_lost', 'receiving_air_yards',\n",
    "                              'receiving_yards_after_catch', 'receiving_first_downs', 'receiving_epa', 'receiving_2pt_conversions', 'special_teams_tds', 'fantasy_points_ppr', 'racr', 'target_share', 'air_yards_share', 'wopr'])\n",
    "    games = data.groupby('player_id').count()\n",
    "    games['games'] = games['player_name']\n",
    "    games = games['games']\n",
    "    grouped = data.groupby('player_id').sum()\n",
    "\n",
    "    qb_data = names.join(grouped, on='player_id', how='inner')\n",
    "    qb_data = qb_data.join(games, on='player_id', how='inner')\n",
    "\n",
    "    id_data = nfl.import_ids(ids=['gsis', 'espn'])\n",
    "    id_data = id_data[['name', 'position', 'birthdate', 'height', 'weight', 'college', 'draft_year', 'draft_round', 'draft_pick', 'gsis_id', 'espn_id']]\n",
    "    id_data = id_data[id_data.position=='QB']\n",
    "    qb_data = qb_data.merge(id_data, how='inner', left_on='player_id', right_on='gsis_id')\n",
    "\n",
    "    ages = [relativedelta.relativedelta(datetime.strptime(str(row[3]) + '-12-31', '%Y-%m-%d').date(), datetime.strptime(row[31], '%Y-%m-%d').date()).years for row in qb_data.itertuples()]\n",
    "    qb_data['age'] = pd.Series(ages)\n",
    "\n",
    "    qbrs = nfl.import_qbr([year])\n",
    "    qbrs = qbrs[qbrs.season_type == 'Regular']\n",
    "    qbrs = qbrs[['name_first', 'name_last', 'headshot_href', 'rank', 'qbr_total', 'pts_added', 'qb_plays', 'epa_total', 'pass', 'run', 'exp_sack', 'penalty', 'qbr_raw', 'team', 'qualified', 'player_id']]\n",
    "    qb_data = qb_data.merge(qbrs, how='inner', left_on='espn_id', right_on='player_id')\n",
    "\n",
    "    qb_data = qb_data[['name', 'position', 'age', 'season', 'games', 'team', 'rank', 'completions', 'attempts', 'passing_yards', 'passing_tds', 'interceptions', 'sacks', 'sack_yards', 'sack_fumbles', 'sack_fumbles_lost', 'passing_air_yards', 'passing_yards_after_catch',\n",
    "                       'passing_first_downs', 'passing_epa', 'passing_2pt_conversions', 'dakota', 'carries', 'rushing_yards', 'rushing_tds', 'rushing_fumbles', 'rushing_fumbles_lost', 'rushing_first_downs', 'rushing_epa', 'fantasy_points', 'qbr_total', 'pts_added', 'qb_plays',\n",
    "                       'epa_total', 'pass', 'run', 'qbr_raw', 'qualified', 'height', 'weight', 'name_first', 'name_last', 'draft_round', 'draft_pick', 'gsis_id', 'espn_id', 'headshot_href']]\n",
    "\n",
    "    return qb_data"
   ]
  },
  {
   "cell_type": "code",
   "execution_count": 62,
   "metadata": {
    "collapsed": false,
    "pycharm": {
     "name": "#%%\n"
    }
   },
   "outputs": [],
   "source": [
    "def combine_data(years: list):\n",
    "    cols = ['espn_id', 'games', 'rank', 'completions', 'attempts', 'passing_yards', 'passing_tds', 'interceptions', 'sacks',\n",
    "            'sack_yards', 'sack_fumbles', 'sack_fumbles_lost', 'passing_air_yards', 'passing_yards_after_catch',\n",
    "            'passing_first_downs', 'passing_epa', 'passing_2pt_conversions', 'dakota', 'carries', 'rushing_yards',\n",
    "            'rushing_tds', 'rushing_fumbles', 'rushing_fumbles_lost', 'rushing_first_downs', 'rushing_epa',\n",
    "            'fantasy_points', 'qbr_total', 'pts_added', 'qb_plays', 'epa_total', 'pass', 'run', 'qbr_raw', 'qualified']\n",
    "    data = [get_data(year) for year in years]\n",
    "\n",
    "    for i in reversed(range(2, len(data))):\n",
    "        data[i] = data[i].merge(data[i-1][cols],\n",
    "                                left_on='espn_id',\n",
    "                                right_on='espn_id',\n",
    "                                how='left',\n",
    "                                suffixes=('', '_n-1'))\n",
    "        data[i] = data[i].merge(data[i-2][cols],\n",
    "                                left_on='espn_id',\n",
    "                                right_on='espn_id',\n",
    "                                how='left',\n",
    "                                suffixes=('', '_n-2'))\n",
    "    for i in range(len(data) - 1):\n",
    "        data[i] = data[i].merge(data[i + 1][['fantasy_points', 'espn_id']],\n",
    "                                  left_on='espn_id',\n",
    "                                  right_on='espn_id',\n",
    "                                  how='left',\n",
    "                                  suffixes=('', '_next_year'))\n",
    "    qb_data = pd.DataFrame()\n",
    "    for dataframe in data:\n",
    "        qb_data = pd.concat([qb_data, dataframe],\n",
    "                            ignore_index=True)\n",
    "\n",
    "    return qb_data"
   ]
  },
  {
   "cell_type": "code",
   "execution_count": 63,
   "metadata": {
    "collapsed": false,
    "pycharm": {
     "name": "#%%\n"
    }
   },
   "outputs": [
    {
     "name": "stdout",
     "output_type": "stream",
     "text": [
      "Downcasting floats.\n"
     ]
    },
    {
     "name": "stderr",
     "output_type": "stream",
     "text": [
      "/Users/benabraham/opt/anaconda3/envs/FantFootball/lib/python3.9/site-packages/nfl_data_py/__init__.py:637: FutureWarning: Passing a set as an indexer is deprecated and will raise in a future version. Use a list instead.\n",
      "  df = df[set(tgt_ids + rem_cols)]\n"
     ]
    },
    {
     "name": "stdout",
     "output_type": "stream",
     "text": [
      "Downcasting floats.\n"
     ]
    },
    {
     "name": "stderr",
     "output_type": "stream",
     "text": [
      "/Users/benabraham/opt/anaconda3/envs/FantFootball/lib/python3.9/site-packages/nfl_data_py/__init__.py:637: FutureWarning: Passing a set as an indexer is deprecated and will raise in a future version. Use a list instead.\n",
      "  df = df[set(tgt_ids + rem_cols)]\n"
     ]
    },
    {
     "name": "stdout",
     "output_type": "stream",
     "text": [
      "Downcasting floats.\n"
     ]
    },
    {
     "name": "stderr",
     "output_type": "stream",
     "text": [
      "/Users/benabraham/opt/anaconda3/envs/FantFootball/lib/python3.9/site-packages/nfl_data_py/__init__.py:637: FutureWarning: Passing a set as an indexer is deprecated and will raise in a future version. Use a list instead.\n",
      "  df = df[set(tgt_ids + rem_cols)]\n"
     ]
    },
    {
     "name": "stdout",
     "output_type": "stream",
     "text": [
      "Downcasting floats.\n"
     ]
    },
    {
     "name": "stderr",
     "output_type": "stream",
     "text": [
      "/Users/benabraham/opt/anaconda3/envs/FantFootball/lib/python3.9/site-packages/nfl_data_py/__init__.py:637: FutureWarning: Passing a set as an indexer is deprecated and will raise in a future version. Use a list instead.\n",
      "  df = df[set(tgt_ids + rem_cols)]\n"
     ]
    },
    {
     "name": "stdout",
     "output_type": "stream",
     "text": [
      "Downcasting floats.\n"
     ]
    },
    {
     "name": "stderr",
     "output_type": "stream",
     "text": [
      "/Users/benabraham/opt/anaconda3/envs/FantFootball/lib/python3.9/site-packages/nfl_data_py/__init__.py:637: FutureWarning: Passing a set as an indexer is deprecated and will raise in a future version. Use a list instead.\n",
      "  df = df[set(tgt_ids + rem_cols)]\n"
     ]
    },
    {
     "name": "stdout",
     "output_type": "stream",
     "text": [
      "Downcasting floats.\n"
     ]
    },
    {
     "name": "stderr",
     "output_type": "stream",
     "text": [
      "/Users/benabraham/opt/anaconda3/envs/FantFootball/lib/python3.9/site-packages/nfl_data_py/__init__.py:637: FutureWarning: Passing a set as an indexer is deprecated and will raise in a future version. Use a list instead.\n",
      "  df = df[set(tgt_ids + rem_cols)]\n"
     ]
    },
    {
     "name": "stdout",
     "output_type": "stream",
     "text": [
      "Downcasting floats.\n"
     ]
    },
    {
     "name": "stderr",
     "output_type": "stream",
     "text": [
      "/Users/benabraham/opt/anaconda3/envs/FantFootball/lib/python3.9/site-packages/nfl_data_py/__init__.py:637: FutureWarning: Passing a set as an indexer is deprecated and will raise in a future version. Use a list instead.\n",
      "  df = df[set(tgt_ids + rem_cols)]\n"
     ]
    },
    {
     "name": "stdout",
     "output_type": "stream",
     "text": [
      "Downcasting floats.\n"
     ]
    },
    {
     "name": "stderr",
     "output_type": "stream",
     "text": [
      "/Users/benabraham/opt/anaconda3/envs/FantFootball/lib/python3.9/site-packages/nfl_data_py/__init__.py:637: FutureWarning: Passing a set as an indexer is deprecated and will raise in a future version. Use a list instead.\n",
      "  df = df[set(tgt_ids + rem_cols)]\n"
     ]
    },
    {
     "name": "stdout",
     "output_type": "stream",
     "text": [
      "Downcasting floats.\n"
     ]
    },
    {
     "name": "stderr",
     "output_type": "stream",
     "text": [
      "/Users/benabraham/opt/anaconda3/envs/FantFootball/lib/python3.9/site-packages/nfl_data_py/__init__.py:637: FutureWarning: Passing a set as an indexer is deprecated and will raise in a future version. Use a list instead.\n",
      "  df = df[set(tgt_ids + rem_cols)]\n"
     ]
    },
    {
     "name": "stdout",
     "output_type": "stream",
     "text": [
      "Downcasting floats.\n"
     ]
    },
    {
     "name": "stderr",
     "output_type": "stream",
     "text": [
      "/Users/benabraham/opt/anaconda3/envs/FantFootball/lib/python3.9/site-packages/nfl_data_py/__init__.py:637: FutureWarning: Passing a set as an indexer is deprecated and will raise in a future version. Use a list instead.\n",
      "  df = df[set(tgt_ids + rem_cols)]\n"
     ]
    },
    {
     "name": "stdout",
     "output_type": "stream",
     "text": [
      "Downcasting floats.\n"
     ]
    },
    {
     "name": "stderr",
     "output_type": "stream",
     "text": [
      "/Users/benabraham/opt/anaconda3/envs/FantFootball/lib/python3.9/site-packages/nfl_data_py/__init__.py:637: FutureWarning: Passing a set as an indexer is deprecated and will raise in a future version. Use a list instead.\n",
      "  df = df[set(tgt_ids + rem_cols)]\n"
     ]
    },
    {
     "name": "stdout",
     "output_type": "stream",
     "text": [
      "Downcasting floats.\n"
     ]
    },
    {
     "name": "stderr",
     "output_type": "stream",
     "text": [
      "/Users/benabraham/opt/anaconda3/envs/FantFootball/lib/python3.9/site-packages/nfl_data_py/__init__.py:637: FutureWarning: Passing a set as an indexer is deprecated and will raise in a future version. Use a list instead.\n",
      "  df = df[set(tgt_ids + rem_cols)]\n"
     ]
    },
    {
     "name": "stdout",
     "output_type": "stream",
     "text": [
      "Downcasting floats.\n"
     ]
    },
    {
     "name": "stderr",
     "output_type": "stream",
     "text": [
      "/Users/benabraham/opt/anaconda3/envs/FantFootball/lib/python3.9/site-packages/nfl_data_py/__init__.py:637: FutureWarning: Passing a set as an indexer is deprecated and will raise in a future version. Use a list instead.\n",
      "  df = df[set(tgt_ids + rem_cols)]\n"
     ]
    },
    {
     "name": "stdout",
     "output_type": "stream",
     "text": [
      "Downcasting floats.\n"
     ]
    },
    {
     "name": "stderr",
     "output_type": "stream",
     "text": [
      "/Users/benabraham/opt/anaconda3/envs/FantFootball/lib/python3.9/site-packages/nfl_data_py/__init__.py:637: FutureWarning: Passing a set as an indexer is deprecated and will raise in a future version. Use a list instead.\n",
      "  df = df[set(tgt_ids + rem_cols)]\n"
     ]
    },
    {
     "name": "stdout",
     "output_type": "stream",
     "text": [
      "Downcasting floats.\n"
     ]
    },
    {
     "name": "stderr",
     "output_type": "stream",
     "text": [
      "/Users/benabraham/opt/anaconda3/envs/FantFootball/lib/python3.9/site-packages/nfl_data_py/__init__.py:637: FutureWarning: Passing a set as an indexer is deprecated and will raise in a future version. Use a list instead.\n",
      "  df = df[set(tgt_ids + rem_cols)]\n"
     ]
    },
    {
     "name": "stdout",
     "output_type": "stream",
     "text": [
      "Downcasting floats.\n"
     ]
    },
    {
     "name": "stderr",
     "output_type": "stream",
     "text": [
      "/Users/benabraham/opt/anaconda3/envs/FantFootball/lib/python3.9/site-packages/nfl_data_py/__init__.py:637: FutureWarning: Passing a set as an indexer is deprecated and will raise in a future version. Use a list instead.\n",
      "  df = df[set(tgt_ids + rem_cols)]\n"
     ]
    },
    {
     "name": "stdout",
     "output_type": "stream",
     "text": [
      "CPU times: user 4.1 s, sys: 1.09 s, total: 5.19 s\n",
      "Wall time: 45.3 s\n"
     ]
    }
   ],
   "source": [
    "%%time\n",
    "data = combine_data([year for year in range(2006, 2022)])"
   ]
  },
  {
   "cell_type": "code",
   "execution_count": 78,
   "metadata": {
    "collapsed": false,
    "pycharm": {
     "name": "#%%\n"
    }
   },
   "outputs": [],
   "source": [
    "data.to_parquet('qb_season_data.parquet')"
   ]
  }
 ],
 "metadata": {
  "kernelspec": {
   "display_name": "Python 3.9.12 ('FantFootballV2')",
   "language": "python",
   "name": "python3"
  },
  "language_info": {
   "codemirror_mode": {
    "name": "ipython",
    "version": 2
   },
   "file_extension": ".py",
   "mimetype": "text/x-python",
   "name": "python",
   "nbconvert_exporter": "python",
   "pygments_lexer": "ipython2",
   "version": "3.9.12"
  },
  "vscode": {
   "interpreter": {
    "hash": "5fd2b6fb039f954710ccc43b58fd3e1f95c473cd6a07930eaf4635305e8115e1"
   }
  }
 },
 "nbformat": 4,
 "nbformat_minor": 0
}
