{
 "cells": [
  {
   "cell_type": "code",
   "execution_count": 1,
   "metadata": {},
   "outputs": [],
   "source": [
    "import pandas as pd\n",
    "import pickle\n",
    "import xgboost as xgb\n",
    "import nfl_data_py as nfl\n",
    "import plotly.express as px"
   ]
  },
  {
   "cell_type": "code",
   "execution_count": 2,
   "metadata": {},
   "outputs": [],
   "source": [
    "overUnderFifteenModel = pickle.load(open('overUnderFifteen.pkl', 'rb'))\n",
    "overUnderEighteenModel = pickle.load(open('overUnderEighteen.pkl', 'rb'))\n",
    "overUnderTwentyOneModel = pickle.load(open('overUnderTwentyOne.pkl', 'rb'))\n",
    "overUnderTwentyFourModel = pickle.load(open('overUnderTwentyFour.pkl', 'rb'))"
   ]
  },
  {
   "cell_type": "code",
   "execution_count": 3,
   "metadata": {},
   "outputs": [],
   "source": [
    "qbData = pd.read_parquet('qb_data_complete.parquet')"
   ]
  },
  {
   "cell_type": "code",
   "execution_count": 4,
   "metadata": {},
   "outputs": [],
   "source": [
    "curData = qbData[qbData.season == 2021].copy()"
   ]
  },
  {
   "cell_type": "code",
   "execution_count": 5,
   "metadata": {},
   "outputs": [],
   "source": [
    "remove = ['espn_id', 'season', 'fantasy_points_per_game_next_year', 'fantasy_points_next_year', 'qualified_n-1', 'qualified_n-2', 'qualified']\n",
    "curFeatures = curData.drop(remove, axis=1).copy()\n",
    "curData['over_fifteen'] = overUnderFifteenModel.predict(curFeatures)\n",
    "curData['over_eighteen'] = overUnderEighteenModel.predict(curFeatures)\n",
    "curData['over_twenty_one'] = overUnderTwentyOneModel.predict(curFeatures)\n",
    "curData['over_twenty_four'] = overUnderTwentyFourModel.predict(curFeatures)"
   ]
  },
  {
   "cell_type": "code",
   "execution_count": 6,
   "metadata": {},
   "outputs": [
    {
     "data": {
      "text/html": [
       "<div>\n",
       "<style scoped>\n",
       "    .dataframe tbody tr th:only-of-type {\n",
       "        vertical-align: middle;\n",
       "    }\n",
       "\n",
       "    .dataframe tbody tr th {\n",
       "        vertical-align: top;\n",
       "    }\n",
       "\n",
       "    .dataframe thead th {\n",
       "        text-align: right;\n",
       "    }\n",
       "</style>\n",
       "<table border=\"1\" class=\"dataframe\">\n",
       "  <thead>\n",
       "    <tr style=\"text-align: right;\">\n",
       "      <th></th>\n",
       "      <th>espn_id</th>\n",
       "      <th>season</th>\n",
       "      <th>age</th>\n",
       "      <th>height</th>\n",
       "      <th>weight</th>\n",
       "      <th>draft_pick</th>\n",
       "      <th>fantasy_points</th>\n",
       "      <th>games</th>\n",
       "      <th>ppr_sh</th>\n",
       "      <th>completions</th>\n",
       "      <th>...</th>\n",
       "      <th>rushing_yards_per_game_n-2</th>\n",
       "      <th>rushing_tds_per_game_n-2</th>\n",
       "      <th>rushing_fumbles_per_game_n-2</th>\n",
       "      <th>rushing_fumbles_lost_per_game_n-2</th>\n",
       "      <th>sack_fumbles_per_game_n-2</th>\n",
       "      <th>sack_fumbles_lost_per_game_n-2</th>\n",
       "      <th>over_fifteen</th>\n",
       "      <th>over_eighteen</th>\n",
       "      <th>over_twenty_one</th>\n",
       "      <th>over_twenty_four</th>\n",
       "    </tr>\n",
       "  </thead>\n",
       "  <tbody>\n",
       "    <tr>\n",
       "      <th>0</th>\n",
       "      <td>8439.0</td>\n",
       "      <td>2021.0</td>\n",
       "      <td>38.0</td>\n",
       "      <td>74.0</td>\n",
       "      <td>225.0</td>\n",
       "      <td>24.0</td>\n",
       "      <td>332.30</td>\n",
       "      <td>16.0</td>\n",
       "      <td>0.207297</td>\n",
       "      <td>366.0</td>\n",
       "      <td>...</td>\n",
       "      <td>11.4375</td>\n",
       "      <td>0.0625</td>\n",
       "      <td>0.0625</td>\n",
       "      <td>0.0625</td>\n",
       "      <td>0.1875</td>\n",
       "      <td>0.1875</td>\n",
       "      <td>1</td>\n",
       "      <td>1</td>\n",
       "      <td>0</td>\n",
       "      <td>0</td>\n",
       "    </tr>\n",
       "    <tr>\n",
       "      <th>1</th>\n",
       "      <td>2330.0</td>\n",
       "      <td>2021.0</td>\n",
       "      <td>44.0</td>\n",
       "      <td>76.0</td>\n",
       "      <td>225.0</td>\n",
       "      <td>33.0</td>\n",
       "      <td>374.74</td>\n",
       "      <td>17.0</td>\n",
       "      <td>0.195705</td>\n",
       "      <td>485.0</td>\n",
       "      <td>...</td>\n",
       "      <td>2.1250</td>\n",
       "      <td>0.1875</td>\n",
       "      <td>0.0000</td>\n",
       "      <td>0.0000</td>\n",
       "      <td>0.1875</td>\n",
       "      <td>0.0625</td>\n",
       "      <td>1</td>\n",
       "      <td>0</td>\n",
       "      <td>0</td>\n",
       "      <td>0</td>\n",
       "    </tr>\n",
       "    <tr>\n",
       "      <th>2</th>\n",
       "      <td>4038941.0</td>\n",
       "      <td>2021.0</td>\n",
       "      <td>23.0</td>\n",
       "      <td>78.0</td>\n",
       "      <td>237.0</td>\n",
       "      <td>6.0</td>\n",
       "      <td>380.76</td>\n",
       "      <td>17.0</td>\n",
       "      <td>0.210789</td>\n",
       "      <td>443.0</td>\n",
       "      <td>...</td>\n",
       "      <td>NaN</td>\n",
       "      <td>NaN</td>\n",
       "      <td>NaN</td>\n",
       "      <td>NaN</td>\n",
       "      <td>NaN</td>\n",
       "      <td>NaN</td>\n",
       "      <td>1</td>\n",
       "      <td>1</td>\n",
       "      <td>0</td>\n",
       "      <td>0</td>\n",
       "    </tr>\n",
       "    <tr>\n",
       "      <th>3</th>\n",
       "      <td>12483.0</td>\n",
       "      <td>2021.0</td>\n",
       "      <td>33.0</td>\n",
       "      <td>75.0</td>\n",
       "      <td>220.0</td>\n",
       "      <td>1.0</td>\n",
       "      <td>329.74</td>\n",
       "      <td>17.0</td>\n",
       "      <td>0.193814</td>\n",
       "      <td>404.0</td>\n",
       "      <td>...</td>\n",
       "      <td>8.2500</td>\n",
       "      <td>0.0000</td>\n",
       "      <td>0.2500</td>\n",
       "      <td>0.1250</td>\n",
       "      <td>0.3750</td>\n",
       "      <td>0.2500</td>\n",
       "      <td>1</td>\n",
       "      <td>0</td>\n",
       "      <td>0</td>\n",
       "      <td>0</td>\n",
       "    </tr>\n",
       "    <tr>\n",
       "      <th>4</th>\n",
       "      <td>3918298.0</td>\n",
       "      <td>2021.0</td>\n",
       "      <td>25.0</td>\n",
       "      <td>77.0</td>\n",
       "      <td>237.0</td>\n",
       "      <td>7.0</td>\n",
       "      <td>402.58</td>\n",
       "      <td>17.0</td>\n",
       "      <td>0.235910</td>\n",
       "      <td>409.0</td>\n",
       "      <td>...</td>\n",
       "      <td>31.8750</td>\n",
       "      <td>0.5625</td>\n",
       "      <td>0.4375</td>\n",
       "      <td>0.1250</td>\n",
       "      <td>0.4375</td>\n",
       "      <td>0.1250</td>\n",
       "      <td>1</td>\n",
       "      <td>1</td>\n",
       "      <td>1</td>\n",
       "      <td>0</td>\n",
       "    </tr>\n",
       "  </tbody>\n",
       "</table>\n",
       "<p>5 rows × 159 columns</p>\n",
       "</div>"
      ],
      "text/plain": [
       "     espn_id  season   age  height  weight  draft_pick  fantasy_points  games  \\\n",
       "0     8439.0  2021.0  38.0    74.0   225.0        24.0          332.30   16.0   \n",
       "1     2330.0  2021.0  44.0    76.0   225.0        33.0          374.74   17.0   \n",
       "2  4038941.0  2021.0  23.0    78.0   237.0         6.0          380.76   17.0   \n",
       "3    12483.0  2021.0  33.0    75.0   220.0         1.0          329.74   17.0   \n",
       "4  3918298.0  2021.0  25.0    77.0   237.0         7.0          402.58   17.0   \n",
       "\n",
       "     ppr_sh  completions  ...  rushing_yards_per_game_n-2  \\\n",
       "0  0.207297        366.0  ...                     11.4375   \n",
       "1  0.195705        485.0  ...                      2.1250   \n",
       "2  0.210789        443.0  ...                         NaN   \n",
       "3  0.193814        404.0  ...                      8.2500   \n",
       "4  0.235910        409.0  ...                     31.8750   \n",
       "\n",
       "   rushing_tds_per_game_n-2  rushing_fumbles_per_game_n-2  \\\n",
       "0                    0.0625                        0.0625   \n",
       "1                    0.1875                        0.0000   \n",
       "2                       NaN                           NaN   \n",
       "3                    0.0000                        0.2500   \n",
       "4                    0.5625                        0.4375   \n",
       "\n",
       "   rushing_fumbles_lost_per_game_n-2  sack_fumbles_per_game_n-2  \\\n",
       "0                             0.0625                     0.1875   \n",
       "1                             0.0000                     0.1875   \n",
       "2                                NaN                        NaN   \n",
       "3                             0.1250                     0.3750   \n",
       "4                             0.1250                     0.4375   \n",
       "\n",
       "   sack_fumbles_lost_per_game_n-2  over_fifteen  over_eighteen  \\\n",
       "0                          0.1875             1              1   \n",
       "1                          0.0625             1              0   \n",
       "2                             NaN             1              1   \n",
       "3                          0.2500             1              0   \n",
       "4                          0.1250             1              1   \n",
       "\n",
       "   over_twenty_one  over_twenty_four  \n",
       "0                0                 0  \n",
       "1                0                 0  \n",
       "2                0                 0  \n",
       "3                0                 0  \n",
       "4                1                 0  \n",
       "\n",
       "[5 rows x 159 columns]"
      ]
     },
     "execution_count": 6,
     "metadata": {},
     "output_type": "execute_result"
    }
   ],
   "source": [
    "curData.head()"
   ]
  },
  {
   "cell_type": "code",
   "execution_count": 7,
   "metadata": {},
   "outputs": [],
   "source": [
    "range = []\n",
    "for row in curData.itertuples():\n",
    "    if row.over_twenty_four == 1:\n",
    "        range.append('24<')\n",
    "    elif row.over_twenty_one == 1:\n",
    "        range.append('21-24')\n",
    "    elif row.over_eighteen == 1:\n",
    "        range.append('18-21')\n",
    "    elif row.over_fifteen == 1:\n",
    "        range.append('15-18')\n",
    "    else:\n",
    "        range.append('<15')"
   ]
  },
  {
   "cell_type": "code",
   "execution_count": 8,
   "metadata": {},
   "outputs": [],
   "source": [
    "curData['range'] = range"
   ]
  },
  {
   "cell_type": "code",
   "execution_count": 9,
   "metadata": {},
   "outputs": [],
   "source": [
    "idData = nfl.import_ids()\n",
    "idSubset = idData[['gsis_id', 'espn_id', 'name', 'team', 'position']]"
   ]
  },
  {
   "cell_type": "code",
   "execution_count": 10,
   "metadata": {},
   "outputs": [],
   "source": [
    "mergedData = curData.merge(idSubset, on='espn_id')"
   ]
  },
  {
   "cell_type": "code",
   "execution_count": 13,
   "metadata": {},
   "outputs": [],
   "source": [
    "mergedData[['gsis_id', 'name', 'team', 'position', 'range', 'age', 'fantasy_points_per_game']].to_parquet('qb_predictions.parquet')"
   ]
  },
  {
   "cell_type": "code",
   "execution_count": 14,
   "metadata": {},
   "outputs": [
    {
     "data": {
      "text/plain": [
       "Index(['espn_id', 'season', 'age', 'height', 'weight', 'draft_pick',\n",
       "       'fantasy_points', 'games', 'ppr_sh', 'completions',\n",
       "       ...\n",
       "       'sack_fumbles_lost_per_game_n-2', 'over_fifteen', 'over_eighteen',\n",
       "       'over_twenty_one', 'over_twenty_four', 'range', 'gsis_id', 'name',\n",
       "       'team', 'position'],\n",
       "      dtype='object', length=164)"
      ]
     },
     "execution_count": 14,
     "metadata": {},
     "output_type": "execute_result"
    }
   ],
   "source": [
    "mergedData.columns"
   ]
  },
  {
   "cell_type": "code",
   "execution_count": null,
   "metadata": {},
   "outputs": [],
   "source": []
  }
 ],
 "metadata": {
  "kernelspec": {
   "display_name": "Python 3.9.12 ('FantFootballV2')",
   "language": "python",
   "name": "python3"
  },
  "language_info": {
   "codemirror_mode": {
    "name": "ipython",
    "version": 3
   },
   "file_extension": ".py",
   "mimetype": "text/x-python",
   "name": "python",
   "nbconvert_exporter": "python",
   "pygments_lexer": "ipython3",
   "version": "3.9.12"
  },
  "orig_nbformat": 4,
  "vscode": {
   "interpreter": {
    "hash": "5fd2b6fb039f954710ccc43b58fd3e1f95c473cd6a07930eaf4635305e8115e1"
   }
  }
 },
 "nbformat": 4,
 "nbformat_minor": 2
}
