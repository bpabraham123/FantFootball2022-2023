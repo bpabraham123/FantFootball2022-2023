{
 "cells": [
  {
   "cell_type": "code",
   "execution_count": 57,
   "metadata": {},
   "outputs": [],
   "source": [
    "import pandas as pd\n",
    "import numpy as np\n",
    "import xgboost as xgb\n",
    "from sklearn.model_selection import train_test_split\n",
    "import sklearn.model_selection as ms\n",
    "import numpy as np\n",
    "from sklearn.metrics import mean_squared_error as MSE\n",
    "from sklearn.metrics import *\n",
    "from sklearn.model_selection import GroupShuffleSplit\n",
    "from sklearn.metrics import accuracy_score\n",
    "import plotly.express as px\n",
    "import pickle"
   ]
  },
  {
   "cell_type": "code",
   "execution_count": 58,
   "metadata": {},
   "outputs": [],
   "source": [
    "def buildModel(overUnderThreshold: int, data: pd.DataFrame, file: str):\n",
    "    overUnder = []\n",
    "    for row in data.itertuples():\n",
    "        if row.fantasy_points_per_game_next_year >= overUnderThreshold:\n",
    "            overUnder.append(1)\n",
    "        else:\n",
    "            overUnder.append(0)\n",
    "    data['overUnder'] = overUnder\n",
    "    remove = ['espn_id', 'season', 'fantasy_points_per_game_next_year', 'fantasy_points_next_year', 'qualified_n-1', 'qualified_n-2', 'qualified', 'overUnder']\n",
    "    y = data['overUnder']\n",
    "    X = data.drop(labels=remove, axis=1)\n",
    "    highestMean = 0\n",
    "\n",
    "    bestDepth = 0\n",
    "    bestEst = 0\n",
    "    bestRate = 0\n",
    "    # define model evaluation method\n",
    "    cv = ms.StratifiedKFold(n_splits=10)\n",
    "    for depth in range(2, 11, 2):\n",
    "        for est in range(50, 251, 50):\n",
    "            for rate in [0.1, 0.2, 0.3]:\n",
    "                # fit model no training data\n",
    "                model = xgb.XGBClassifier(max_depth=depth, n_estimators=est, learning_rate=rate)\n",
    "                # evaluate model\n",
    "                scores = ms.cross_val_score(model, X, y, scoring='accuracy', cv=cv, n_jobs=-1)\n",
    "                if scores.mean() > highestMean:\n",
    "                    highestMean = scores.mean()\n",
    "                    bestDepth = depth\n",
    "                    bestEst = est\n",
    "                    bestRate = rate\n",
    "    optimalModel = xgb.XGBClassifier(max_depth=bestDepth, n_estimators=bestEst, learning_rate=bestRate)\n",
    "    optimalModel.fit(X, y)\n",
    "    pickle.dump(optimalModel, open(file, \"wb\"))\n",
    "    return highestMean\n"
   ]
  },
  {
   "cell_type": "code",
   "execution_count": 59,
   "metadata": {},
   "outputs": [],
   "source": [
    "df = pd.read_parquet(\"qb_data_complete.parquet\")"
   ]
  },
  {
   "cell_type": "code",
   "execution_count": 60,
   "metadata": {},
   "outputs": [],
   "source": [
    "df = df.dropna(subset=['fantasy_points_next_year'])"
   ]
  },
  {
   "cell_type": "code",
   "execution_count": 66,
   "metadata": {},
   "outputs": [],
   "source": [
    "df = df[df.qualified == 1].copy()"
   ]
  },
  {
   "cell_type": "code",
   "execution_count": 67,
   "metadata": {},
   "outputs": [
    {
     "data": {
      "application/vnd.plotly.v1+json": {
       "config": {
        "plotlyServerURL": "https://plot.ly"
       },
       "data": [
        {
         "alignmentgroup": "True",
         "bingroup": "x",
         "hovertemplate": "fantasy_points_per_game_next_year=%{x}<br>count=%{y}<extra></extra>",
         "legendgroup": "",
         "marker": {
          "color": "#636efa",
          "pattern": {
           "shape": ""
          }
         },
         "name": "",
         "nbinsx": 20,
         "offsetgroup": "",
         "orientation": "v",
         "showlegend": false,
         "type": "histogram",
         "x": [
          17.19375,
          24.3775,
          11.08625,
          14.2625,
          16.07,
          18.4775,
          17.381333333333334,
          15.39625,
          10.356,
          11.52125,
          3.04,
          13.525,
          15.88625,
          15.693846153846154,
          11.16625,
          18.91625,
          17.3125,
          9.040000000000001,
          15.865454545454547,
          9.309999999999999,
          12.475000000000001,
          17.41,
          12.4075,
          11.734285714285715,
          17.41875,
          13.110000000000001,
          17.55625,
          14.45875,
          19.494666666666667,
          10.970666666666666,
          16.8225,
          21.36,
          14.24,
          17.11375,
          13.76125,
          13.645000000000001,
          13.44875,
          12.92,
          17.801333333333332,
          16.825,
          17.8625,
          17.6,
          18.6875,
          15.35,
          14.4425,
          9.855555555555556,
          20.29866666666667,
          17.466666666666665,
          15.775,
          16.333333333333332,
          13.9875,
          14.455,
          16.14769230769231,
          12.12923076923077,
          15.804285714285713,
          10.341333333333333,
          14.010666666666667,
          12.254545454545456,
          16.1525,
          10.574285714285713,
          13.476,
          15.276000000000002,
          22.89375,
          17.0925,
          24.4775,
          17.924615384615386,
          26.494666666666667,
          13.565333333333333,
          14.405333333333335,
          15.91,
          15.806000000000001,
          12.65,
          17.55125,
          10.668888888888889,
          13.612,
          9.513333333333334,
          0.6100000000000001,
          11.877500000000001,
          13.92375,
          13.626,
          14.828750000000001,
          13.133333333333333,
          8.716000000000001,
          14.98,
          13.22875,
          21.475,
          21.59875,
          13.92625,
          21.5175,
          19.05375,
          17.4325,
          17.215384615384615,
          15.168000000000001,
          13.015,
          14.557500000000001,
          14.68,
          12.308,
          17.22375,
          20.17875,
          4.47,
          12.268,
          14.954666666666666,
          9.56,
          13.356250000000001,
          15.6725,
          8.704444444444444,
          15.53125,
          7.874666666666667,
          12.075,
          14.405,
          9.408,
          25.62375,
          15.72,
          16.88625,
          16.146250000000002,
          18.826666666666668,
          15.50625,
          16.386153846153846,
          22.355,
          10.645,
          17.39466666666667,
          18.28625,
          10.48,
          17.431250000000002,
          18.60375,
          16.94,
          12.97375,
          14.895,
          14.457142857142857,
          19.98,
          18.001250000000002,
          15.330909090909092,
          15.15090909090909,
          13.57875,
          18.02,
          14.248571428571429,
          11.205,
          10.756,
          11.997777777777777,
          19.5425,
          16.6025,
          17.038666666666668,
          14.915000000000001,
          18.93625,
          17.76625,
          15.666250000000002,
          20.475,
          17.784285714285716,
          21.98375,
          17.37875,
          17.753333333333334,
          22.13375,
          14.976666666666667,
          19.173750000000002,
          14.93,
          14.03875,
          17.256666666666668,
          15.72375,
          17.40625,
          16.4025,
          14.666666666666666,
          10.771428571428572,
          16.84375,
          18.8275,
          21.48125,
          20.279999999999998,
          9.136,
          21.01625,
          18.868333333333336,
          16.194,
          14.62125,
          17.78,
          18.69142857142857,
          8.734545454545454,
          17.825,
          17.96125,
          16.0825,
          12.244444444444447,
          24.317500000000003,
          16.9525,
          12.5275,
          15.097333333333333,
          18.784615384615385,
          20,
          18.111250000000002,
          16.955000000000002,
          15.149090909090908,
          16.52,
          19.7575,
          16.208000000000002,
          18.01142857142857,
          16.29,
          16.75375,
          21.546666666666667,
          18.7675,
          20.77,
          18.061333333333334,
          21.71625,
          9.528571428571428,
          16.950666666666667,
          14.918666666666667,
          23.75125,
          17.486250000000002,
          14.01125,
          16.18375,
          16.00625,
          11.252,
          13.266666666666666,
          20.513333333333332,
          16.88125,
          15.155000000000001,
          17.329333333333334,
          14.63076923076923,
          18.221818181818183,
          17.898666666666667,
          14.725333333333333,
          12.116666666666667,
          14.25625,
          18.4925,
          16.29125,
          18.514285714285712,
          16.41,
          17.35125,
          17.1025,
          14.844000000000001,
          19.67866666666667,
          17.38266666666667,
          15.512307692307692,
          14.032000000000002,
          16.9,
          21.745,
          13.629333333333333,
          13.49,
          14.617142857142857,
          11.565,
          13.168750000000001,
          11.463636363636363,
          11.32,
          18.7175,
          21.672307692307694,
          12.488,
          15.605,
          12.32,
          15.858666666666666,
          17.514545454545456,
          13.43125,
          17.51875,
          17.868750000000002,
          22.122500000000002,
          21.30375,
          13.26125,
          13.8,
          20.265333333333334,
          18.65125,
          17.81375,
          13.324615384615385,
          12.494285714285715,
          17.6325,
          19.395,
          17.798181818181817,
          20.185714285714287,
          13.485000000000001,
          14.9975,
          15.233333333333333,
          15.867272727272727,
          -0.15500000000000003,
          18.787142857142857,
          20.502857142857145,
          20.432727272727274,
          13.521333333333333,
          16.48,
          14.71875,
          19.085,
          17.82266666666667,
          15.47,
          20.4125,
          17.24125,
          21.332,
          16.294666666666668,
          15.58923076923077,
          17.39875,
          21.111250000000002,
          10.61,
          20.82,
          14.32375,
          18.035,
          15.2725,
          14.55076923076923,
          27.712,
          18.68166666666667,
          22.185333333333336,
          24.959999999999997,
          17.456666666666667,
          26.928000000000004,
          22.486250000000002,
          16.285,
          23.0825,
          16.971111111111114,
          21.71,
          17.0075,
          16.533333333333335,
          10.723333333333334,
          19.1375,
          17.6525,
          23.67125,
          21.12,
          12.858571428571429,
          15.47625,
          23.89125,
          1.870909090909091,
          15.998666666666669,
          14.9975,
          24.69125,
          11.168333333333335,
          17.74,
          12.354545454545455,
          15.370000000000001,
          11.25,
          4.590000000000001,
          20.76875,
          21.274117647058826,
          23.681176470588234,
          16.021176470588237,
          19.998333333333335,
          17.344285714285714,
          22.043529411764705,
          12.842857142857143,
          15.11529411764706,
          22.39764705882353,
          21.412857142857145,
          19.396470588235296,
          13.112941176470587,
          14.477142857142857,
          18.771250000000002,
          15.138181818181819,
          1.624,
          13.63125,
          13.892857142857142,
          19.64,
          13.916923076923078,
          11.22,
          15.177647058823531,
          9.879999999999999,
          13.106666666666667
         ],
         "xaxis": "x",
         "yaxis": "y"
        }
       ],
       "layout": {
        "barmode": "relative",
        "legend": {
         "tracegroupgap": 0
        },
        "margin": {
         "t": 60
        },
        "template": {
         "data": {
          "bar": [
           {
            "error_x": {
             "color": "#2a3f5f"
            },
            "error_y": {
             "color": "#2a3f5f"
            },
            "marker": {
             "line": {
              "color": "#E5ECF6",
              "width": 0.5
             },
             "pattern": {
              "fillmode": "overlay",
              "size": 10,
              "solidity": 0.2
             }
            },
            "type": "bar"
           }
          ],
          "barpolar": [
           {
            "marker": {
             "line": {
              "color": "#E5ECF6",
              "width": 0.5
             },
             "pattern": {
              "fillmode": "overlay",
              "size": 10,
              "solidity": 0.2
             }
            },
            "type": "barpolar"
           }
          ],
          "carpet": [
           {
            "aaxis": {
             "endlinecolor": "#2a3f5f",
             "gridcolor": "white",
             "linecolor": "white",
             "minorgridcolor": "white",
             "startlinecolor": "#2a3f5f"
            },
            "baxis": {
             "endlinecolor": "#2a3f5f",
             "gridcolor": "white",
             "linecolor": "white",
             "minorgridcolor": "white",
             "startlinecolor": "#2a3f5f"
            },
            "type": "carpet"
           }
          ],
          "choropleth": [
           {
            "colorbar": {
             "outlinewidth": 0,
             "ticks": ""
            },
            "type": "choropleth"
           }
          ],
          "contour": [
           {
            "colorbar": {
             "outlinewidth": 0,
             "ticks": ""
            },
            "colorscale": [
             [
              0,
              "#0d0887"
             ],
             [
              0.1111111111111111,
              "#46039f"
             ],
             [
              0.2222222222222222,
              "#7201a8"
             ],
             [
              0.3333333333333333,
              "#9c179e"
             ],
             [
              0.4444444444444444,
              "#bd3786"
             ],
             [
              0.5555555555555556,
              "#d8576b"
             ],
             [
              0.6666666666666666,
              "#ed7953"
             ],
             [
              0.7777777777777778,
              "#fb9f3a"
             ],
             [
              0.8888888888888888,
              "#fdca26"
             ],
             [
              1,
              "#f0f921"
             ]
            ],
            "type": "contour"
           }
          ],
          "contourcarpet": [
           {
            "colorbar": {
             "outlinewidth": 0,
             "ticks": ""
            },
            "type": "contourcarpet"
           }
          ],
          "heatmap": [
           {
            "colorbar": {
             "outlinewidth": 0,
             "ticks": ""
            },
            "colorscale": [
             [
              0,
              "#0d0887"
             ],
             [
              0.1111111111111111,
              "#46039f"
             ],
             [
              0.2222222222222222,
              "#7201a8"
             ],
             [
              0.3333333333333333,
              "#9c179e"
             ],
             [
              0.4444444444444444,
              "#bd3786"
             ],
             [
              0.5555555555555556,
              "#d8576b"
             ],
             [
              0.6666666666666666,
              "#ed7953"
             ],
             [
              0.7777777777777778,
              "#fb9f3a"
             ],
             [
              0.8888888888888888,
              "#fdca26"
             ],
             [
              1,
              "#f0f921"
             ]
            ],
            "type": "heatmap"
           }
          ],
          "heatmapgl": [
           {
            "colorbar": {
             "outlinewidth": 0,
             "ticks": ""
            },
            "colorscale": [
             [
              0,
              "#0d0887"
             ],
             [
              0.1111111111111111,
              "#46039f"
             ],
             [
              0.2222222222222222,
              "#7201a8"
             ],
             [
              0.3333333333333333,
              "#9c179e"
             ],
             [
              0.4444444444444444,
              "#bd3786"
             ],
             [
              0.5555555555555556,
              "#d8576b"
             ],
             [
              0.6666666666666666,
              "#ed7953"
             ],
             [
              0.7777777777777778,
              "#fb9f3a"
             ],
             [
              0.8888888888888888,
              "#fdca26"
             ],
             [
              1,
              "#f0f921"
             ]
            ],
            "type": "heatmapgl"
           }
          ],
          "histogram": [
           {
            "marker": {
             "pattern": {
              "fillmode": "overlay",
              "size": 10,
              "solidity": 0.2
             }
            },
            "type": "histogram"
           }
          ],
          "histogram2d": [
           {
            "colorbar": {
             "outlinewidth": 0,
             "ticks": ""
            },
            "colorscale": [
             [
              0,
              "#0d0887"
             ],
             [
              0.1111111111111111,
              "#46039f"
             ],
             [
              0.2222222222222222,
              "#7201a8"
             ],
             [
              0.3333333333333333,
              "#9c179e"
             ],
             [
              0.4444444444444444,
              "#bd3786"
             ],
             [
              0.5555555555555556,
              "#d8576b"
             ],
             [
              0.6666666666666666,
              "#ed7953"
             ],
             [
              0.7777777777777778,
              "#fb9f3a"
             ],
             [
              0.8888888888888888,
              "#fdca26"
             ],
             [
              1,
              "#f0f921"
             ]
            ],
            "type": "histogram2d"
           }
          ],
          "histogram2dcontour": [
           {
            "colorbar": {
             "outlinewidth": 0,
             "ticks": ""
            },
            "colorscale": [
             [
              0,
              "#0d0887"
             ],
             [
              0.1111111111111111,
              "#46039f"
             ],
             [
              0.2222222222222222,
              "#7201a8"
             ],
             [
              0.3333333333333333,
              "#9c179e"
             ],
             [
              0.4444444444444444,
              "#bd3786"
             ],
             [
              0.5555555555555556,
              "#d8576b"
             ],
             [
              0.6666666666666666,
              "#ed7953"
             ],
             [
              0.7777777777777778,
              "#fb9f3a"
             ],
             [
              0.8888888888888888,
              "#fdca26"
             ],
             [
              1,
              "#f0f921"
             ]
            ],
            "type": "histogram2dcontour"
           }
          ],
          "mesh3d": [
           {
            "colorbar": {
             "outlinewidth": 0,
             "ticks": ""
            },
            "type": "mesh3d"
           }
          ],
          "parcoords": [
           {
            "line": {
             "colorbar": {
              "outlinewidth": 0,
              "ticks": ""
             }
            },
            "type": "parcoords"
           }
          ],
          "pie": [
           {
            "automargin": true,
            "type": "pie"
           }
          ],
          "scatter": [
           {
            "fillpattern": {
             "fillmode": "overlay",
             "size": 10,
             "solidity": 0.2
            },
            "type": "scatter"
           }
          ],
          "scatter3d": [
           {
            "line": {
             "colorbar": {
              "outlinewidth": 0,
              "ticks": ""
             }
            },
            "marker": {
             "colorbar": {
              "outlinewidth": 0,
              "ticks": ""
             }
            },
            "type": "scatter3d"
           }
          ],
          "scattercarpet": [
           {
            "marker": {
             "colorbar": {
              "outlinewidth": 0,
              "ticks": ""
             }
            },
            "type": "scattercarpet"
           }
          ],
          "scattergeo": [
           {
            "marker": {
             "colorbar": {
              "outlinewidth": 0,
              "ticks": ""
             }
            },
            "type": "scattergeo"
           }
          ],
          "scattergl": [
           {
            "marker": {
             "colorbar": {
              "outlinewidth": 0,
              "ticks": ""
             }
            },
            "type": "scattergl"
           }
          ],
          "scattermapbox": [
           {
            "marker": {
             "colorbar": {
              "outlinewidth": 0,
              "ticks": ""
             }
            },
            "type": "scattermapbox"
           }
          ],
          "scatterpolar": [
           {
            "marker": {
             "colorbar": {
              "outlinewidth": 0,
              "ticks": ""
             }
            },
            "type": "scatterpolar"
           }
          ],
          "scatterpolargl": [
           {
            "marker": {
             "colorbar": {
              "outlinewidth": 0,
              "ticks": ""
             }
            },
            "type": "scatterpolargl"
           }
          ],
          "scatterternary": [
           {
            "marker": {
             "colorbar": {
              "outlinewidth": 0,
              "ticks": ""
             }
            },
            "type": "scatterternary"
           }
          ],
          "surface": [
           {
            "colorbar": {
             "outlinewidth": 0,
             "ticks": ""
            },
            "colorscale": [
             [
              0,
              "#0d0887"
             ],
             [
              0.1111111111111111,
              "#46039f"
             ],
             [
              0.2222222222222222,
              "#7201a8"
             ],
             [
              0.3333333333333333,
              "#9c179e"
             ],
             [
              0.4444444444444444,
              "#bd3786"
             ],
             [
              0.5555555555555556,
              "#d8576b"
             ],
             [
              0.6666666666666666,
              "#ed7953"
             ],
             [
              0.7777777777777778,
              "#fb9f3a"
             ],
             [
              0.8888888888888888,
              "#fdca26"
             ],
             [
              1,
              "#f0f921"
             ]
            ],
            "type": "surface"
           }
          ],
          "table": [
           {
            "cells": {
             "fill": {
              "color": "#EBF0F8"
             },
             "line": {
              "color": "white"
             }
            },
            "header": {
             "fill": {
              "color": "#C8D4E3"
             },
             "line": {
              "color": "white"
             }
            },
            "type": "table"
           }
          ]
         },
         "layout": {
          "annotationdefaults": {
           "arrowcolor": "#2a3f5f",
           "arrowhead": 0,
           "arrowwidth": 1
          },
          "autotypenumbers": "strict",
          "coloraxis": {
           "colorbar": {
            "outlinewidth": 0,
            "ticks": ""
           }
          },
          "colorscale": {
           "diverging": [
            [
             0,
             "#8e0152"
            ],
            [
             0.1,
             "#c51b7d"
            ],
            [
             0.2,
             "#de77ae"
            ],
            [
             0.3,
             "#f1b6da"
            ],
            [
             0.4,
             "#fde0ef"
            ],
            [
             0.5,
             "#f7f7f7"
            ],
            [
             0.6,
             "#e6f5d0"
            ],
            [
             0.7,
             "#b8e186"
            ],
            [
             0.8,
             "#7fbc41"
            ],
            [
             0.9,
             "#4d9221"
            ],
            [
             1,
             "#276419"
            ]
           ],
           "sequential": [
            [
             0,
             "#0d0887"
            ],
            [
             0.1111111111111111,
             "#46039f"
            ],
            [
             0.2222222222222222,
             "#7201a8"
            ],
            [
             0.3333333333333333,
             "#9c179e"
            ],
            [
             0.4444444444444444,
             "#bd3786"
            ],
            [
             0.5555555555555556,
             "#d8576b"
            ],
            [
             0.6666666666666666,
             "#ed7953"
            ],
            [
             0.7777777777777778,
             "#fb9f3a"
            ],
            [
             0.8888888888888888,
             "#fdca26"
            ],
            [
             1,
             "#f0f921"
            ]
           ],
           "sequentialminus": [
            [
             0,
             "#0d0887"
            ],
            [
             0.1111111111111111,
             "#46039f"
            ],
            [
             0.2222222222222222,
             "#7201a8"
            ],
            [
             0.3333333333333333,
             "#9c179e"
            ],
            [
             0.4444444444444444,
             "#bd3786"
            ],
            [
             0.5555555555555556,
             "#d8576b"
            ],
            [
             0.6666666666666666,
             "#ed7953"
            ],
            [
             0.7777777777777778,
             "#fb9f3a"
            ],
            [
             0.8888888888888888,
             "#fdca26"
            ],
            [
             1,
             "#f0f921"
            ]
           ]
          },
          "colorway": [
           "#636efa",
           "#EF553B",
           "#00cc96",
           "#ab63fa",
           "#FFA15A",
           "#19d3f3",
           "#FF6692",
           "#B6E880",
           "#FF97FF",
           "#FECB52"
          ],
          "font": {
           "color": "#2a3f5f"
          },
          "geo": {
           "bgcolor": "white",
           "lakecolor": "white",
           "landcolor": "#E5ECF6",
           "showlakes": true,
           "showland": true,
           "subunitcolor": "white"
          },
          "hoverlabel": {
           "align": "left"
          },
          "hovermode": "closest",
          "mapbox": {
           "style": "light"
          },
          "paper_bgcolor": "white",
          "plot_bgcolor": "#E5ECF6",
          "polar": {
           "angularaxis": {
            "gridcolor": "white",
            "linecolor": "white",
            "ticks": ""
           },
           "bgcolor": "#E5ECF6",
           "radialaxis": {
            "gridcolor": "white",
            "linecolor": "white",
            "ticks": ""
           }
          },
          "scene": {
           "xaxis": {
            "backgroundcolor": "#E5ECF6",
            "gridcolor": "white",
            "gridwidth": 2,
            "linecolor": "white",
            "showbackground": true,
            "ticks": "",
            "zerolinecolor": "white"
           },
           "yaxis": {
            "backgroundcolor": "#E5ECF6",
            "gridcolor": "white",
            "gridwidth": 2,
            "linecolor": "white",
            "showbackground": true,
            "ticks": "",
            "zerolinecolor": "white"
           },
           "zaxis": {
            "backgroundcolor": "#E5ECF6",
            "gridcolor": "white",
            "gridwidth": 2,
            "linecolor": "white",
            "showbackground": true,
            "ticks": "",
            "zerolinecolor": "white"
           }
          },
          "shapedefaults": {
           "line": {
            "color": "#2a3f5f"
           }
          },
          "ternary": {
           "aaxis": {
            "gridcolor": "white",
            "linecolor": "white",
            "ticks": ""
           },
           "baxis": {
            "gridcolor": "white",
            "linecolor": "white",
            "ticks": ""
           },
           "bgcolor": "#E5ECF6",
           "caxis": {
            "gridcolor": "white",
            "linecolor": "white",
            "ticks": ""
           }
          },
          "title": {
           "x": 0.05
          },
          "xaxis": {
           "automargin": true,
           "gridcolor": "white",
           "linecolor": "white",
           "ticks": "",
           "title": {
            "standoff": 15
           },
           "zerolinecolor": "white",
           "zerolinewidth": 2
          },
          "yaxis": {
           "automargin": true,
           "gridcolor": "white",
           "linecolor": "white",
           "ticks": "",
           "title": {
            "standoff": 15
           },
           "zerolinecolor": "white",
           "zerolinewidth": 2
          }
         }
        },
        "xaxis": {
         "anchor": "y",
         "domain": [
          0,
          1
         ],
         "title": {
          "text": "fantasy_points_per_game_next_year"
         }
        },
        "yaxis": {
         "anchor": "x",
         "domain": [
          0,
          1
         ],
         "title": {
          "text": "count"
         }
        }
       }
      }
     },
     "metadata": {},
     "output_type": "display_data"
    }
   ],
   "source": [
    "px.histogram(df, x=\"fantasy_points_per_game_next_year\", nbins=20)"
   ]
  },
  {
   "cell_type": "code",
   "execution_count": 68,
   "metadata": {},
   "outputs": [],
   "source": [
    "thresholdAndNames = {\"OverUnderFifteen.pkl\": 15,\n",
    "                     \"OverUnderEighteen.pkl\": 18, \n",
    "                     \"OverUnderTwentyOne.pkl\": 21,\n",
    "                     \"OverUnderTwentyFour.pkl\": 24}"
   ]
  },
  {
   "cell_type": "code",
   "execution_count": 69,
   "metadata": {},
   "outputs": [
    {
     "name": "stdout",
     "output_type": "stream",
     "text": [
      "OverUnderFifteen.pkl : 0.6973949579831934\n",
      "OverUnderEighteen.pkl : 0.7845378151260504\n",
      "OverUnderTwentyOne.pkl : 0.8811764705882353\n"
     ]
    },
    {
     "name": "stderr",
     "output_type": "stream",
     "text": [
      "/Users/benabraham/opt/anaconda3/envs/FantFootballV2/lib/python3.9/site-packages/sklearn/model_selection/_split.py:680: UserWarning:\n",
      "\n",
      "The least populated class in y has only 9 members, which is less than n_splits=10.\n",
      "\n",
      "/Users/benabraham/opt/anaconda3/envs/FantFootballV2/lib/python3.9/site-packages/sklearn/model_selection/_split.py:680: UserWarning:\n",
      "\n",
      "The least populated class in y has only 9 members, which is less than n_splits=10.\n",
      "\n",
      "/Users/benabraham/opt/anaconda3/envs/FantFootballV2/lib/python3.9/site-packages/sklearn/model_selection/_split.py:680: UserWarning:\n",
      "\n",
      "The least populated class in y has only 9 members, which is less than n_splits=10.\n",
      "\n",
      "/Users/benabraham/opt/anaconda3/envs/FantFootballV2/lib/python3.9/site-packages/sklearn/model_selection/_split.py:680: UserWarning:\n",
      "\n",
      "The least populated class in y has only 9 members, which is less than n_splits=10.\n",
      "\n",
      "/Users/benabraham/opt/anaconda3/envs/FantFootballV2/lib/python3.9/site-packages/sklearn/model_selection/_split.py:680: UserWarning:\n",
      "\n",
      "The least populated class in y has only 9 members, which is less than n_splits=10.\n",
      "\n",
      "/Users/benabraham/opt/anaconda3/envs/FantFootballV2/lib/python3.9/site-packages/sklearn/model_selection/_split.py:680: UserWarning:\n",
      "\n",
      "The least populated class in y has only 9 members, which is less than n_splits=10.\n",
      "\n",
      "/Users/benabraham/opt/anaconda3/envs/FantFootballV2/lib/python3.9/site-packages/sklearn/model_selection/_split.py:680: UserWarning:\n",
      "\n",
      "The least populated class in y has only 9 members, which is less than n_splits=10.\n",
      "\n",
      "/Users/benabraham/opt/anaconda3/envs/FantFootballV2/lib/python3.9/site-packages/sklearn/model_selection/_split.py:680: UserWarning:\n",
      "\n",
      "The least populated class in y has only 9 members, which is less than n_splits=10.\n",
      "\n",
      "/Users/benabraham/opt/anaconda3/envs/FantFootballV2/lib/python3.9/site-packages/sklearn/model_selection/_split.py:680: UserWarning:\n",
      "\n",
      "The least populated class in y has only 9 members, which is less than n_splits=10.\n",
      "\n",
      "/Users/benabraham/opt/anaconda3/envs/FantFootballV2/lib/python3.9/site-packages/sklearn/model_selection/_split.py:680: UserWarning:\n",
      "\n",
      "The least populated class in y has only 9 members, which is less than n_splits=10.\n",
      "\n",
      "/Users/benabraham/opt/anaconda3/envs/FantFootballV2/lib/python3.9/site-packages/sklearn/model_selection/_split.py:680: UserWarning:\n",
      "\n",
      "The least populated class in y has only 9 members, which is less than n_splits=10.\n",
      "\n",
      "/Users/benabraham/opt/anaconda3/envs/FantFootballV2/lib/python3.9/site-packages/sklearn/model_selection/_split.py:680: UserWarning:\n",
      "\n",
      "The least populated class in y has only 9 members, which is less than n_splits=10.\n",
      "\n",
      "/Users/benabraham/opt/anaconda3/envs/FantFootballV2/lib/python3.9/site-packages/sklearn/model_selection/_split.py:680: UserWarning:\n",
      "\n",
      "The least populated class in y has only 9 members, which is less than n_splits=10.\n",
      "\n",
      "/Users/benabraham/opt/anaconda3/envs/FantFootballV2/lib/python3.9/site-packages/sklearn/model_selection/_split.py:680: UserWarning:\n",
      "\n",
      "The least populated class in y has only 9 members, which is less than n_splits=10.\n",
      "\n",
      "/Users/benabraham/opt/anaconda3/envs/FantFootballV2/lib/python3.9/site-packages/sklearn/model_selection/_split.py:680: UserWarning:\n",
      "\n",
      "The least populated class in y has only 9 members, which is less than n_splits=10.\n",
      "\n",
      "/Users/benabraham/opt/anaconda3/envs/FantFootballV2/lib/python3.9/site-packages/sklearn/model_selection/_split.py:680: UserWarning:\n",
      "\n",
      "The least populated class in y has only 9 members, which is less than n_splits=10.\n",
      "\n",
      "/Users/benabraham/opt/anaconda3/envs/FantFootballV2/lib/python3.9/site-packages/sklearn/model_selection/_split.py:680: UserWarning:\n",
      "\n",
      "The least populated class in y has only 9 members, which is less than n_splits=10.\n",
      "\n",
      "/Users/benabraham/opt/anaconda3/envs/FantFootballV2/lib/python3.9/site-packages/sklearn/model_selection/_split.py:680: UserWarning:\n",
      "\n",
      "The least populated class in y has only 9 members, which is less than n_splits=10.\n",
      "\n",
      "/Users/benabraham/opt/anaconda3/envs/FantFootballV2/lib/python3.9/site-packages/sklearn/model_selection/_split.py:680: UserWarning:\n",
      "\n",
      "The least populated class in y has only 9 members, which is less than n_splits=10.\n",
      "\n",
      "/Users/benabraham/opt/anaconda3/envs/FantFootballV2/lib/python3.9/site-packages/sklearn/model_selection/_split.py:680: UserWarning:\n",
      "\n",
      "The least populated class in y has only 9 members, which is less than n_splits=10.\n",
      "\n",
      "/Users/benabraham/opt/anaconda3/envs/FantFootballV2/lib/python3.9/site-packages/sklearn/model_selection/_split.py:680: UserWarning:\n",
      "\n",
      "The least populated class in y has only 9 members, which is less than n_splits=10.\n",
      "\n",
      "/Users/benabraham/opt/anaconda3/envs/FantFootballV2/lib/python3.9/site-packages/sklearn/model_selection/_split.py:680: UserWarning:\n",
      "\n",
      "The least populated class in y has only 9 members, which is less than n_splits=10.\n",
      "\n",
      "/Users/benabraham/opt/anaconda3/envs/FantFootballV2/lib/python3.9/site-packages/sklearn/model_selection/_split.py:680: UserWarning:\n",
      "\n",
      "The least populated class in y has only 9 members, which is less than n_splits=10.\n",
      "\n",
      "/Users/benabraham/opt/anaconda3/envs/FantFootballV2/lib/python3.9/site-packages/sklearn/model_selection/_split.py:680: UserWarning:\n",
      "\n",
      "The least populated class in y has only 9 members, which is less than n_splits=10.\n",
      "\n",
      "/Users/benabraham/opt/anaconda3/envs/FantFootballV2/lib/python3.9/site-packages/sklearn/model_selection/_split.py:680: UserWarning:\n",
      "\n",
      "The least populated class in y has only 9 members, which is less than n_splits=10.\n",
      "\n",
      "/Users/benabraham/opt/anaconda3/envs/FantFootballV2/lib/python3.9/site-packages/sklearn/model_selection/_split.py:680: UserWarning:\n",
      "\n",
      "The least populated class in y has only 9 members, which is less than n_splits=10.\n",
      "\n",
      "/Users/benabraham/opt/anaconda3/envs/FantFootballV2/lib/python3.9/site-packages/sklearn/model_selection/_split.py:680: UserWarning:\n",
      "\n",
      "The least populated class in y has only 9 members, which is less than n_splits=10.\n",
      "\n",
      "/Users/benabraham/opt/anaconda3/envs/FantFootballV2/lib/python3.9/site-packages/sklearn/model_selection/_split.py:680: UserWarning:\n",
      "\n",
      "The least populated class in y has only 9 members, which is less than n_splits=10.\n",
      "\n",
      "/Users/benabraham/opt/anaconda3/envs/FantFootballV2/lib/python3.9/site-packages/sklearn/model_selection/_split.py:680: UserWarning:\n",
      "\n",
      "The least populated class in y has only 9 members, which is less than n_splits=10.\n",
      "\n",
      "/Users/benabraham/opt/anaconda3/envs/FantFootballV2/lib/python3.9/site-packages/sklearn/model_selection/_split.py:680: UserWarning:\n",
      "\n",
      "The least populated class in y has only 9 members, which is less than n_splits=10.\n",
      "\n",
      "/Users/benabraham/opt/anaconda3/envs/FantFootballV2/lib/python3.9/site-packages/sklearn/model_selection/_split.py:680: UserWarning:\n",
      "\n",
      "The least populated class in y has only 9 members, which is less than n_splits=10.\n",
      "\n",
      "/Users/benabraham/opt/anaconda3/envs/FantFootballV2/lib/python3.9/site-packages/sklearn/model_selection/_split.py:680: UserWarning:\n",
      "\n",
      "The least populated class in y has only 9 members, which is less than n_splits=10.\n",
      "\n",
      "/Users/benabraham/opt/anaconda3/envs/FantFootballV2/lib/python3.9/site-packages/sklearn/model_selection/_split.py:680: UserWarning:\n",
      "\n",
      "The least populated class in y has only 9 members, which is less than n_splits=10.\n",
      "\n",
      "/Users/benabraham/opt/anaconda3/envs/FantFootballV2/lib/python3.9/site-packages/sklearn/model_selection/_split.py:680: UserWarning:\n",
      "\n",
      "The least populated class in y has only 9 members, which is less than n_splits=10.\n",
      "\n",
      "/Users/benabraham/opt/anaconda3/envs/FantFootballV2/lib/python3.9/site-packages/sklearn/model_selection/_split.py:680: UserWarning:\n",
      "\n",
      "The least populated class in y has only 9 members, which is less than n_splits=10.\n",
      "\n",
      "/Users/benabraham/opt/anaconda3/envs/FantFootballV2/lib/python3.9/site-packages/sklearn/model_selection/_split.py:680: UserWarning:\n",
      "\n",
      "The least populated class in y has only 9 members, which is less than n_splits=10.\n",
      "\n",
      "/Users/benabraham/opt/anaconda3/envs/FantFootballV2/lib/python3.9/site-packages/sklearn/model_selection/_split.py:680: UserWarning:\n",
      "\n",
      "The least populated class in y has only 9 members, which is less than n_splits=10.\n",
      "\n",
      "/Users/benabraham/opt/anaconda3/envs/FantFootballV2/lib/python3.9/site-packages/sklearn/model_selection/_split.py:680: UserWarning:\n",
      "\n",
      "The least populated class in y has only 9 members, which is less than n_splits=10.\n",
      "\n",
      "/Users/benabraham/opt/anaconda3/envs/FantFootballV2/lib/python3.9/site-packages/sklearn/model_selection/_split.py:680: UserWarning:\n",
      "\n",
      "The least populated class in y has only 9 members, which is less than n_splits=10.\n",
      "\n",
      "/Users/benabraham/opt/anaconda3/envs/FantFootballV2/lib/python3.9/site-packages/sklearn/model_selection/_split.py:680: UserWarning:\n",
      "\n",
      "The least populated class in y has only 9 members, which is less than n_splits=10.\n",
      "\n",
      "/Users/benabraham/opt/anaconda3/envs/FantFootballV2/lib/python3.9/site-packages/sklearn/model_selection/_split.py:680: UserWarning:\n",
      "\n",
      "The least populated class in y has only 9 members, which is less than n_splits=10.\n",
      "\n",
      "/Users/benabraham/opt/anaconda3/envs/FantFootballV2/lib/python3.9/site-packages/sklearn/model_selection/_split.py:680: UserWarning:\n",
      "\n",
      "The least populated class in y has only 9 members, which is less than n_splits=10.\n",
      "\n",
      "/Users/benabraham/opt/anaconda3/envs/FantFootballV2/lib/python3.9/site-packages/sklearn/model_selection/_split.py:680: UserWarning:\n",
      "\n",
      "The least populated class in y has only 9 members, which is less than n_splits=10.\n",
      "\n",
      "/Users/benabraham/opt/anaconda3/envs/FantFootballV2/lib/python3.9/site-packages/sklearn/model_selection/_split.py:680: UserWarning:\n",
      "\n",
      "The least populated class in y has only 9 members, which is less than n_splits=10.\n",
      "\n",
      "/Users/benabraham/opt/anaconda3/envs/FantFootballV2/lib/python3.9/site-packages/sklearn/model_selection/_split.py:680: UserWarning:\n",
      "\n",
      "The least populated class in y has only 9 members, which is less than n_splits=10.\n",
      "\n",
      "/Users/benabraham/opt/anaconda3/envs/FantFootballV2/lib/python3.9/site-packages/sklearn/model_selection/_split.py:680: UserWarning:\n",
      "\n",
      "The least populated class in y has only 9 members, which is less than n_splits=10.\n",
      "\n",
      "/Users/benabraham/opt/anaconda3/envs/FantFootballV2/lib/python3.9/site-packages/sklearn/model_selection/_split.py:680: UserWarning:\n",
      "\n",
      "The least populated class in y has only 9 members, which is less than n_splits=10.\n",
      "\n",
      "/Users/benabraham/opt/anaconda3/envs/FantFootballV2/lib/python3.9/site-packages/sklearn/model_selection/_split.py:680: UserWarning:\n",
      "\n",
      "The least populated class in y has only 9 members, which is less than n_splits=10.\n",
      "\n",
      "/Users/benabraham/opt/anaconda3/envs/FantFootballV2/lib/python3.9/site-packages/sklearn/model_selection/_split.py:680: UserWarning:\n",
      "\n",
      "The least populated class in y has only 9 members, which is less than n_splits=10.\n",
      "\n",
      "/Users/benabraham/opt/anaconda3/envs/FantFootballV2/lib/python3.9/site-packages/sklearn/model_selection/_split.py:680: UserWarning:\n",
      "\n",
      "The least populated class in y has only 9 members, which is less than n_splits=10.\n",
      "\n",
      "/Users/benabraham/opt/anaconda3/envs/FantFootballV2/lib/python3.9/site-packages/sklearn/model_selection/_split.py:680: UserWarning:\n",
      "\n",
      "The least populated class in y has only 9 members, which is less than n_splits=10.\n",
      "\n",
      "/Users/benabraham/opt/anaconda3/envs/FantFootballV2/lib/python3.9/site-packages/sklearn/model_selection/_split.py:680: UserWarning:\n",
      "\n",
      "The least populated class in y has only 9 members, which is less than n_splits=10.\n",
      "\n",
      "/Users/benabraham/opt/anaconda3/envs/FantFootballV2/lib/python3.9/site-packages/sklearn/model_selection/_split.py:680: UserWarning:\n",
      "\n",
      "The least populated class in y has only 9 members, which is less than n_splits=10.\n",
      "\n",
      "/Users/benabraham/opt/anaconda3/envs/FantFootballV2/lib/python3.9/site-packages/sklearn/model_selection/_split.py:680: UserWarning:\n",
      "\n",
      "The least populated class in y has only 9 members, which is less than n_splits=10.\n",
      "\n",
      "/Users/benabraham/opt/anaconda3/envs/FantFootballV2/lib/python3.9/site-packages/sklearn/model_selection/_split.py:680: UserWarning:\n",
      "\n",
      "The least populated class in y has only 9 members, which is less than n_splits=10.\n",
      "\n",
      "/Users/benabraham/opt/anaconda3/envs/FantFootballV2/lib/python3.9/site-packages/sklearn/model_selection/_split.py:680: UserWarning:\n",
      "\n",
      "The least populated class in y has only 9 members, which is less than n_splits=10.\n",
      "\n",
      "/Users/benabraham/opt/anaconda3/envs/FantFootballV2/lib/python3.9/site-packages/sklearn/model_selection/_split.py:680: UserWarning:\n",
      "\n",
      "The least populated class in y has only 9 members, which is less than n_splits=10.\n",
      "\n",
      "/Users/benabraham/opt/anaconda3/envs/FantFootballV2/lib/python3.9/site-packages/sklearn/model_selection/_split.py:680: UserWarning:\n",
      "\n",
      "The least populated class in y has only 9 members, which is less than n_splits=10.\n",
      "\n",
      "/Users/benabraham/opt/anaconda3/envs/FantFootballV2/lib/python3.9/site-packages/sklearn/model_selection/_split.py:680: UserWarning:\n",
      "\n",
      "The least populated class in y has only 9 members, which is less than n_splits=10.\n",
      "\n",
      "/Users/benabraham/opt/anaconda3/envs/FantFootballV2/lib/python3.9/site-packages/sklearn/model_selection/_split.py:680: UserWarning:\n",
      "\n",
      "The least populated class in y has only 9 members, which is less than n_splits=10.\n",
      "\n",
      "/Users/benabraham/opt/anaconda3/envs/FantFootballV2/lib/python3.9/site-packages/sklearn/model_selection/_split.py:680: UserWarning:\n",
      "\n",
      "The least populated class in y has only 9 members, which is less than n_splits=10.\n",
      "\n",
      "/Users/benabraham/opt/anaconda3/envs/FantFootballV2/lib/python3.9/site-packages/sklearn/model_selection/_split.py:680: UserWarning:\n",
      "\n",
      "The least populated class in y has only 9 members, which is less than n_splits=10.\n",
      "\n",
      "/Users/benabraham/opt/anaconda3/envs/FantFootballV2/lib/python3.9/site-packages/sklearn/model_selection/_split.py:680: UserWarning:\n",
      "\n",
      "The least populated class in y has only 9 members, which is less than n_splits=10.\n",
      "\n",
      "/Users/benabraham/opt/anaconda3/envs/FantFootballV2/lib/python3.9/site-packages/sklearn/model_selection/_split.py:680: UserWarning:\n",
      "\n",
      "The least populated class in y has only 9 members, which is less than n_splits=10.\n",
      "\n",
      "/Users/benabraham/opt/anaconda3/envs/FantFootballV2/lib/python3.9/site-packages/sklearn/model_selection/_split.py:680: UserWarning:\n",
      "\n",
      "The least populated class in y has only 9 members, which is less than n_splits=10.\n",
      "\n",
      "/Users/benabraham/opt/anaconda3/envs/FantFootballV2/lib/python3.9/site-packages/sklearn/model_selection/_split.py:680: UserWarning:\n",
      "\n",
      "The least populated class in y has only 9 members, which is less than n_splits=10.\n",
      "\n",
      "/Users/benabraham/opt/anaconda3/envs/FantFootballV2/lib/python3.9/site-packages/sklearn/model_selection/_split.py:680: UserWarning:\n",
      "\n",
      "The least populated class in y has only 9 members, which is less than n_splits=10.\n",
      "\n",
      "/Users/benabraham/opt/anaconda3/envs/FantFootballV2/lib/python3.9/site-packages/sklearn/model_selection/_split.py:680: UserWarning:\n",
      "\n",
      "The least populated class in y has only 9 members, which is less than n_splits=10.\n",
      "\n",
      "/Users/benabraham/opt/anaconda3/envs/FantFootballV2/lib/python3.9/site-packages/sklearn/model_selection/_split.py:680: UserWarning:\n",
      "\n",
      "The least populated class in y has only 9 members, which is less than n_splits=10.\n",
      "\n",
      "/Users/benabraham/opt/anaconda3/envs/FantFootballV2/lib/python3.9/site-packages/sklearn/model_selection/_split.py:680: UserWarning:\n",
      "\n",
      "The least populated class in y has only 9 members, which is less than n_splits=10.\n",
      "\n",
      "/Users/benabraham/opt/anaconda3/envs/FantFootballV2/lib/python3.9/site-packages/sklearn/model_selection/_split.py:680: UserWarning:\n",
      "\n",
      "The least populated class in y has only 9 members, which is less than n_splits=10.\n",
      "\n",
      "/Users/benabraham/opt/anaconda3/envs/FantFootballV2/lib/python3.9/site-packages/sklearn/model_selection/_split.py:680: UserWarning:\n",
      "\n",
      "The least populated class in y has only 9 members, which is less than n_splits=10.\n",
      "\n",
      "/Users/benabraham/opt/anaconda3/envs/FantFootballV2/lib/python3.9/site-packages/sklearn/model_selection/_split.py:680: UserWarning:\n",
      "\n",
      "The least populated class in y has only 9 members, which is less than n_splits=10.\n",
      "\n",
      "/Users/benabraham/opt/anaconda3/envs/FantFootballV2/lib/python3.9/site-packages/sklearn/model_selection/_split.py:680: UserWarning:\n",
      "\n",
      "The least populated class in y has only 9 members, which is less than n_splits=10.\n",
      "\n",
      "/Users/benabraham/opt/anaconda3/envs/FantFootballV2/lib/python3.9/site-packages/sklearn/model_selection/_split.py:680: UserWarning:\n",
      "\n",
      "The least populated class in y has only 9 members, which is less than n_splits=10.\n",
      "\n"
     ]
    },
    {
     "name": "stdout",
     "output_type": "stream",
     "text": [
      "OverUnderTwentyFour.pkl : 0.9738655462184875\n"
     ]
    }
   ],
   "source": [
    "for key in thresholdAndNames.keys():\n",
    "    mean = buildModel(thresholdAndNames[key], df, key)\n",
    "    print(key, \":\", mean)"
   ]
  },
  {
   "cell_type": "code",
   "execution_count": null,
   "metadata": {},
   "outputs": [],
   "source": []
  }
 ],
 "metadata": {
  "kernelspec": {
   "display_name": "Python 3.9.12 ('FantFootballV2')",
   "language": "python",
   "name": "python3"
  },
  "language_info": {
   "codemirror_mode": {
    "name": "ipython",
    "version": 3
   },
   "file_extension": ".py",
   "mimetype": "text/x-python",
   "name": "python",
   "nbconvert_exporter": "python",
   "pygments_lexer": "ipython3",
   "version": "3.9.12"
  },
  "orig_nbformat": 4,
  "vscode": {
   "interpreter": {
    "hash": "5fd2b6fb039f954710ccc43b58fd3e1f95c473cd6a07930eaf4635305e8115e1"
   }
  }
 },
 "nbformat": 4,
 "nbformat_minor": 2
}
